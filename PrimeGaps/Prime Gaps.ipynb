{
 "cells": [
  {
   "cell_type": "code",
   "execution_count": 1,
   "metadata": {
    "collapsed": true
   },
   "outputs": [],
   "source": [
    "import re\n",
    "from functools import partial"
   ]
  },
  {
   "cell_type": "markdown",
   "metadata": {},
   "source": [
    "## Preparing the List of Prime Gaps\n",
    "\n",
    "The file `raw_prime_gaps_list.txt` contains the list of known lead prime gaps for all gaps up to $9998$. The data is uniformly stored. A typical row looks like the following, and the meaning of each element of the row is described below.\n",
    "\n",
    "    6* CFC Glaisher 1877   1.91     2  23\n",
    "    || |   |        |      |        |  |\n",
    "    || |   |        |      |        |  ---> first prime in the prime gap\n",
    "    || |   |        |      |        ------> number of digits of the first prime\n",
    "    || |   |        |      ---------------> \"merit\", which is bigger if the gap is bigger wrt prime size\n",
    "    || |   |        ----------------------> year of discovery\n",
    "    || |   -------------------------------> discoverer\n",
    "    || -----------------------------------> C if \"conventional gap\" (all here are)\n",
    "    ||                                      F if known first occurrence of gap size, N if not, ? if unknown\n",
    "    ||                                      C if certified primes, P if probabilistic primes\n",
    "    |-------------------------------------> * if a \"maximal gap\", larger than all previous gaps\n",
    "    --------------------------------------> size of gap\n",
    "    \n",
    "Sometimes the first prime is stored not as a number, but as an expression in the form $a \\cdot b\\# / c - d$, where $b\\#$ denotes a *primorial*, or as an expression in the form $2^a + b$. We first read in the list. We extract those rows which are maximal (i.e. has * following the gapsize). Then we keep the gap size and the first prime."
   ]
  },
  {
   "cell_type": "code",
   "execution_count": 2,
   "metadata": {
    "collapsed": false
   },
   "outputs": [
    {
     "name": "stdout",
     "output_type": "stream",
     "text": [
      "     6* CFC Glaisher 1877   1.91     2  23\n",
      "\n"
     ]
    }
   ],
   "source": [
    "with open(\"raw_prime_gaps_list.txt\", \"r\") as f:\n",
    "    lines = f.readlines()\n",
    "print(lines[3])"
   ]
  },
  {
   "cell_type": "code",
   "execution_count": 39,
   "metadata": {
    "collapsed": true
   },
   "outputs": [],
   "source": [
    "# First we test the method on just the first 10 prime gaps\n",
    "gaps = []\n",
    "gaps_dict = dict()\n",
    "for line in lines[:10]:\n",
    "    gap, first_prime = extract_gap_and_prime(line)\n",
    "    gaps.append(gap)\n",
    "    gaps_dict[gap] = [first_prime, first_prime + gap]"
   ]
  },
  {
   "cell_type": "code",
   "execution_count": 40,
   "metadata": {
    "collapsed": false
   },
   "outputs": [
    {
     "data": {
      "text/plain": [
       "[1, 2, 4, 6, 8, 10, 12, 14, 16, 18]"
      ]
     },
     "execution_count": 40,
     "metadata": {},
     "output_type": "execute_result"
    }
   ],
   "source": [
    "# These are the gaps\n",
    "gaps"
   ]
  },
  {
   "cell_type": "code",
   "execution_count": 41,
   "metadata": {
    "collapsed": false
   },
   "outputs": [
    {
     "data": {
      "text/plain": [
       "{1: [2, 3],\n",
       " 2: [3, 5],\n",
       " 4: [7, 11],\n",
       " 6: [23, 29],\n",
       " 8: [89, 97],\n",
       " 10: [139, 149],\n",
       " 12: [199, 211],\n",
       " 14: [113, 127],\n",
       " 16: [1831, 1847],\n",
       " 18: [523, 541]}"
      ]
     },
     "execution_count": 41,
     "metadata": {},
     "output_type": "execute_result"
    }
   ],
   "source": [
    "# Clear prime pair storage\n",
    "gaps_dict"
   ]
  },
  {
   "cell_type": "code",
   "execution_count": 42,
   "metadata": {
    "collapsed": true
   },
   "outputs": [],
   "source": [
    "# First we test the method on just the first 10 prime gaps\n",
    "gaps = []\n",
    "gaps_dict = dict()\n",
    "for line in lines:\n",
    "    gap, first_prime = extract_gap_and_prime(line)\n",
    "    gaps.append(gap)\n",
    "    gaps_dict[gap] = [first_prime, first_prime + gap]"
   ]
  },
  {
   "cell_type": "code",
   "execution_count": 45,
   "metadata": {
    "collapsed": false
   },
   "outputs": [
    {
     "data": {
      "text/plain": [
       "[5845193, 5845309]"
      ]
     },
     "execution_count": 45,
     "metadata": {},
     "output_type": "execute_result"
    }
   ],
   "source": [
    "# Choose random representative to check\n",
    "gaps_dict[116]"
   ]
  },
  {
   "cell_type": "code",
   "execution_count": 46,
   "metadata": {
    "collapsed": false
   },
   "outputs": [],
   "source": [
    "def is_maximal_gap(splitlist):\n",
    "    if \"*\" in splitlist[0]:\n",
    "        return True\n",
    "    return False\n",
    "\n",
    "def extract_gap_and_prime(line):\n",
    "    splitlist = line.split(None, 6) # Split on whitespace (None), and make at most 6 splits\n",
    "                                    # Splitting at most 6 times keeps the expression for the first prime together\n",
    "    gap_str = splitlist[0]\n",
    "    first_prime_str = splitlist[6]\n",
    "    first_prime_str = first_prime_str.rstrip()\n",
    "    \n",
    "    #assert gap_str[-1] == \"*\"\n",
    "    if gap_str[-1] == \"*\":\n",
    "        gap = gap_str[:-1]\n",
    "    else:\n",
    "        gap = gap_str\n",
    "    gap = int(gap)\n",
    "    \n",
    "    if \"*\" in first_prime_str:\n",
    "        first_prime = extract_primorial(first_prime_str)\n",
    "    elif \"^\" in first_prime_str:\n",
    "        first_prime = extract_two_power_prime(first_prime_str)\n",
    "    else:\n",
    "        first_prime = int(first_prime_str)\n",
    "        \n",
    "    return gap, first_prime\n",
    "\n",
    "\n",
    "def memoize(f):\n",
    "    memo = {}\n",
    "    def helper(x):\n",
    "        if x not in memo:            \n",
    "            memo[x] = f(x)\n",
    "        return memo[x]\n",
    "    return helper\n",
    "\n",
    "\n",
    "primes_to_541 = primes_first_n(100)\n",
    "@memoize\n",
    "def primorial(n):\n",
    "    return prod([p for p in primes_to_541 if p<= n])\n",
    "\n",
    "\n",
    "def extract_primorial(expression):\n",
    "    pattern = re.compile(r\"(\\w+)\\W*\\*\\W*(\\w+)\\W*\\#\\W*/\\W*(\\w+)\\W*-\\W*(\\w+)\")\n",
    "    m = pattern.match(expression)\n",
    "    a,b,c,d = map(int, m.groups())\n",
    "    return a*primorial(b)/c - d\n",
    "\n",
    "\n",
    "def extract_two_power_prime(expression):\n",
    "    pattern = re.compile(r\"2\\^(\\w+)\\W*\\+\\W*(\\w+)\")\n",
    "    m = pattern.match(expression)\n",
    "    exp, addend = map(int, m.groups())\n",
    "    return 2**exp + addend"
   ]
  },
  {
   "cell_type": "markdown",
   "metadata": {},
   "source": [
    "## Setting up the model functions\n",
    "\n",
    "We will model the distribution of primes in a few different ways. The nature of the distribution of primes is uncertain. By the prime number theorem, the average prime gap looks like\n",
    "$$ X, X + \\log X.$$\n",
    "We expect instead that there are many gaps that are much larger. Cramer thought that prime gaps were never larger than\n",
    "$$ X, X + \\log^2 X.$$\n",
    "It turns out that he wasn't correct, but it may be true that there is a constant $B$ such that gaps are never larger than\n",
    "$$ X, X + B \\log^2 X.$$\n",
    "It is known that this constant, if it exists, is at least $2e^{-\\gamma} \\approx 1.1$.\n",
    "It is also conjectured that no such constant exists, but that for any $A > 2$ there exists a corresponding constant (which I also denote by $B$) such that gaps are never larger than\n",
    "$$ X, X + B \\log^A X.$$\n",
    "\n",
    "Recall in the background that we conjecture that for each $\\alpha$ there exists a constant $C(\\alpha)$ such that\n",
    "$$ p_{n+1}^\\alpha - p_n^\\alpha \\leq C(\\alpha).$$\n",
    "\n",
    "We will model how gaps behave according to these models and compare them to the actual behavior.\n",
    "To do this, we define the function\n",
    "$$ f(A, B, \\alpha, x) := (X + B \\log^A X)^\\alpha - X^\\alpha.$$\n",
    "For each fixed $A, B$, and $\\alpha$, maximizing $f_{A, B, \\alpha}(x)$ gives a largest-possible estimate of the value of $C(\\alpha)$. We say largest-possible because this presupposes that there are primes at exactly the maximizing value of $x$, which corresponds to $x$ and $x + B \\log^A x$ being primes themselves.\n",
    "\n",
    "Note that if Cramer's Conjecture were true (for instance), then it may be that the $C(\\alpha)$ predictions we get from the Cramer model might be slightly larger than reality, and in general each model errs on the side of overestimating rather than underestimating.\n",
    "\n",
    "We will set up model functions with values of $(A, B)$ being $(1,1)$ (PNT), $(2,1)$ (Naive Cramer), $(2,2e^{-\\gamma})$ (Current Cramer), $(2, 10)$ (Cramer), and $(2.5, 1)$ (Adleman-McCurley).\n",
    "\n",
    "### Maximizing the model functions\n",
    "\n",
    "Maximizing $f_{A,B,\\alpha}(x)$ is done naively. Compute the derivative and find when it's zero. There is a unique zero greater than $1$, which is our maximum point. A first-order estimation shows that $f_{A,B,\\alpha}$ is maximized near $m(A,B,\\alpha) = e^{A/(1-\\alpha)}$. Note that $B$ does not affect this first-order estimation, so I do not expect the three variants of Cramer to behave significantly differently.\n",
    "\n",
    "We have that\n",
    "$$ \\begin{align}\n",
    "f(A, B, \\alpha, x) &= (x + B \\log^A x)^\\alpha - x^\\alpha, \\\\\n",
    "f'(A, B, \\alpha, x) &= \\alpha(x + B \\log^A x)^{\\alpha - 1} \\left( 1 + AB \\frac{\\log^{A-1} x}{x} \\right) - \\alpha x^{\\alpha - 1}.\n",
    "\\end{align}$$\n",
    "\n",
    "Note that $f' = 0$ (for $x > 1$) is the same as $f'/(\\alpha x^{\\alpha - 1}) = 0$, which can be rearranged into\n",
    "$$ g_{A, B, \\alpha}(x) := \\left( 1 + AB \\frac{\\log^{A-1} x}{x} \\right) - \\left( 1 + B \\frac{\\log^A x}{x} \\right)^{1 - \\alpha} = 0.$$\n",
    "\n",
    "This is a pretty well-behaved function, and numerical root solvers should be able to handle it. This is what we implement now."
   ]
  },
  {
   "cell_type": "code",
   "execution_count": 84,
   "metadata": {
    "collapsed": false
   },
   "outputs": [],
   "source": [
    "def F(A, B, alpha, x):\n",
    "    return (x + B*log(x)**A)**alpha - x**alpha"
   ]
  },
  {
   "cell_type": "code",
   "execution_count": 47,
   "metadata": {
    "collapsed": true
   },
   "outputs": [],
   "source": [
    "def g(A, B, alpha, x):\n",
    "    return (1 + A * B * log(x)**(A-1)/x) - (1 + B*log(x)**A / x)**(1-alpha)"
   ]
  },
  {
   "cell_type": "code",
   "execution_count": 75,
   "metadata": {
    "collapsed": false
   },
   "outputs": [
    {
     "data": {
      "text/plain": [
       "3875382310049.5977"
      ]
     },
     "execution_count": 75,
     "metadata": {},
     "output_type": "execute_result"
    }
   ],
   "source": [
    "find_root(partial(g,2,1,.931), 2, 10**17)"
   ]
  },
  {
   "cell_type": "markdown",
   "metadata": {},
   "source": [
    "Actually, this caps out at 17 digit precision and won't suffice for $\\alpha > 0.93$. But for really large $x$, the binomial expansion should become more and more accurate, leading to $e^{A/(1-\\alpha)}$ being a better and better estimate of the maximizing $x$. For $\\alpha > 0.93$, I need to use a different technique. This runs into 64-bit precision arithmetic problems. To solve this, for $\\alpha > 0.9$, I will use a homegrown bisection rootfinder in a high precision arithmetic sage environment."
   ]
  },
  {
   "cell_type": "code",
   "execution_count": 140,
   "metadata": {
    "collapsed": false
   },
   "outputs": [],
   "source": [
    "RF = RealField(1000)\n",
    "def RF_F(A, B, alpha, x):\n",
    "    return (RF(x) + B*RF(log(x))**A)**alpha - RF(x)**alpha"
   ]
  },
  {
   "cell_type": "code",
   "execution_count": 151,
   "metadata": {
    "collapsed": false
   },
   "outputs": [
    {
     "data": {
      "text/plain": [
       "94.6462551224227108648753845422473395656417225519337464813725076012845018238854333470590655023933791360594639610137378641151902394969304739020994787415718840404250044482497112695518774671285012294290350100667596286309479025540713352067429287243761089151330174642895411023487669065453967075785313285289"
      ]
     },
     "execution_count": 151,
     "metadata": {},
     "output_type": "execute_result"
    }
   ],
   "source": [
    "RF_F(2, 1, .995, start)"
   ]
  },
  {
   "cell_type": "code",
   "execution_count": 152,
   "metadata": {
    "collapsed": true
   },
   "outputs": [],
   "source": [
    "def RF_g(A, B, alpha, x):\n",
    "    return (RF(1) + A * B * RF(log(x))**(A-1)/RF(x)) - (RF(1) + B*RF(log(x))**A / RF(x))**(1-alpha)"
   ]
  },
  {
   "cell_type": "code",
   "execution_count": 153,
   "metadata": {
    "collapsed": true
   },
   "outputs": [],
   "source": [
    "def RF_gsim(x):\n",
    "    return RF_g(2,1,0.8,x)"
   ]
  },
  {
   "cell_type": "code",
   "execution_count": 154,
   "metadata": {
    "collapsed": true
   },
   "outputs": [],
   "source": [
    "start = exp(2/.2)"
   ]
  },
  {
   "cell_type": "code",
   "execution_count": 155,
   "metadata": {
    "collapsed": false
   },
   "outputs": [
    {
     "data": {
      "text/plain": [
       "1.64444546432196045785420540155893726063200274572267336535350345517820986134145980935118162918424805451405780491393962735635632068351784816308968439342270391699018760425327496611550914706761553155070977740717893810316453496034348416368377098158251454957552350910050505616367388235938291760692342296640e-6"
      ]
     },
     "execution_count": 155,
     "metadata": {},
     "output_type": "execute_result"
    }
   ],
   "source": [
    "RF_gsim(start)"
   ]
  },
  {
   "cell_type": "code",
   "execution_count": 159,
   "metadata": {
    "collapsed": false
   },
   "outputs": [
    {
     "data": {
      "text/plain": [
       "22423.973931885273"
      ]
     },
     "execution_count": 159,
     "metadata": {},
     "output_type": "execute_result"
    }
   ],
   "source": [
    "find_root(RF_gsim, 2, 10**17)"
   ]
  },
  {
   "cell_type": "code",
   "execution_count": 211,
   "metadata": {
    "collapsed": true
   },
   "outputs": [],
   "source": [
    "# Note that this requires that func(2*start) < 0 to work properly\n",
    "# In our case, this means that the `start` guess can't be too bad\n",
    "def bisection_rootfinding(func, start, iterations=1, goal=10**(-7)):\n",
    "    if start*2**(-iterations) < goal:\n",
    "        return start\n",
    "    if func(start) > 0:\n",
    "        return bisection_rootfinding(func, start + start * 2**(-iterations), iterations=iterations+1, goal=goal)\n",
    "    return bisection_rootfinding(func, start - start * 2**(-iterations), iterations=iterations+1, goal=goal)"
   ]
  },
  {
   "cell_type": "code",
   "execution_count": 161,
   "metadata": {
    "collapsed": false
   },
   "outputs": [
    {
     "data": {
      "text/plain": [
       "22423.9739319633"
      ]
     },
     "execution_count": 161,
     "metadata": {},
     "output_type": "execute_result"
    }
   ],
   "source": [
    "bisection_rootfinding(RF_gsim, start)"
   ]
  },
  {
   "cell_type": "markdown",
   "metadata": {},
   "source": [
    "Notice in particular that this is essentially the same as scipy's find_root result, so my method seems to work pretty well.\n",
    "\n",
    "Now let's try it on something larger."
   ]
  },
  {
   "cell_type": "code",
   "execution_count": 202,
   "metadata": {
    "collapsed": true
   },
   "outputs": [],
   "source": [
    "def RF_gsim2(x):\n",
    "    return RF_g(2,1,0.95,x)"
   ]
  },
  {
   "cell_type": "code",
   "execution_count": 203,
   "metadata": {
    "collapsed": true
   },
   "outputs": [],
   "source": [
    "start = RF(exp(2/.05))"
   ]
  },
  {
   "cell_type": "code",
   "execution_count": 204,
   "metadata": {
    "collapsed": false
   },
   "outputs": [
    {
     "data": {
      "text/plain": [
       "9999999710581220.0"
      ]
     },
     "execution_count": 204,
     "metadata": {},
     "output_type": "execute_result"
    }
   ],
   "source": [
    "find_root(RF_gsim2, 2, 10**16)"
   ]
  },
  {
   "cell_type": "code",
   "execution_count": 205,
   "metadata": {
    "collapsed": false
   },
   "outputs": [
    {
     "data": {
      "text/plain": [
       "2.35385266837042022843327073581445209550189717806195566505913760542398087081961498860906821406821821384500066808118082097402013219336066587283757576744855862678903728952660301215698355426390611932122470916392998635276106218830903304888702478640727370013260828376486514621410432957225533987162136976562e17"
      ]
     },
     "execution_count": 205,
     "metadata": {},
     "output_type": "execute_result"
    }
   ],
   "source": [
    "bisection_rootfinding(RF_gsim2, start)"
   ]
  },
  {
   "cell_type": "code",
   "execution_count": 206,
   "metadata": {
    "collapsed": false
   },
   "outputs": [],
   "source": [
    "fr = find_root(RF_gsim2, 2, 10**16)\n",
    "br = bisection_rootfinding(RF_gsim2, start)"
   ]
  },
  {
   "cell_type": "code",
   "execution_count": 207,
   "metadata": {
    "collapsed": false
   },
   "outputs": [
    {
     "data": {
      "text/plain": [
       "23.538527364953389"
      ]
     },
     "execution_count": 207,
     "metadata": {},
     "output_type": "execute_result"
    }
   ],
   "source": [
    "br/fr"
   ]
  },
  {
   "cell_type": "code",
   "execution_count": 209,
   "metadata": {
    "collapsed": false
   },
   "outputs": [
    {
     "data": {
      "text/plain": [
       "205.709630519650881691924521792765193253506704662129143200009919811578164796694847391279127980866813238127336707532494092877547455355110417039290138055484169795377093169784536561532277570158710114624712809121313730522096004967342309066003863302396648990201591070015928728914879882408923972678419871216"
      ]
     },
     "execution_count": 209,
     "metadata": {},
     "output_type": "execute_result"
    }
   ],
   "source": [
    "RF_F(2,1,0.95,br)"
   ]
  },
  {
   "cell_type": "code",
   "execution_count": 210,
   "metadata": {
    "collapsed": false
   },
   "outputs": [
    {
     "data": {
      "text/plain": [
       "204.359554823890368403363980346311818555686040610577329335810851723660578683578255065736205720488148424074134614592141667900060298707050938806333994911863866233402912888249520944989763989818618341662786563588774804722056915716107185579765431262102230328894524070859044620196971152617523013227880281789"
      ]
     },
     "execution_count": 210,
     "metadata": {},
     "output_type": "execute_result"
    }
   ],
   "source": [
    "RF_F(2,1,0.95,fr)"
   ]
  },
  {
   "cell_type": "markdown",
   "metadata": {},
   "source": [
    "This is interesting --- there is a region in which find_root fails due to precision reasons, but not in an obviously detectable way. But as this clearly shows, my bisection method suffices."
   ]
  },
  {
   "cell_type": "markdown",
   "metadata": {},
   "source": [
    "## Data Creation\n",
    "\n",
    "The plan is to loop through $\\alpha$ from $0.005$ to $0.995$, compute everything, and compare everything. But for many initial $\\alpha$, everything is boring. Let's first find exactly when $\\alpha$ is boring."
   ]
  },
  {
   "cell_type": "code",
   "execution_count": 300,
   "metadata": {
    "collapsed": true
   },
   "outputs": [],
   "source": [
    "def estimate_c_alpha(alpha):\n",
    "    MAX = 0\n",
    "    MAXIMIZING_PRIME = 0\n",
    "    MAXIMIZING_GAP = 0\n",
    "    for gap in gaps:  # Note: It is possible to optimize this selection based on vals for other alpha\n",
    "        a,b = gaps_dict[gap]\n",
    "        diff = RF(b)**alpha - RF(a)**alpha\n",
    "        if diff > MAX:\n",
    "            MAX = diff\n",
    "            MAXIMIZING_PRIME = a\n",
    "            MAXIMIZING_GAP = gap\n",
    "    return MAX, MAXIMIZING_GAP, MAXIMIZING_PRIME"
   ]
  },
  {
   "cell_type": "code",
   "execution_count": 301,
   "metadata": {
    "collapsed": false
   },
   "outputs": [
    {
     "name": "stdout",
     "output_type": "stream",
     "text": [
      "0.0500000000000000 (0.0273310781848302800658590880398522815347590177971289917771832998742533538405129347101901809408899390154774514006487716615848197146224848388750750143388527967917247425289525849885984701315952214994461518869467334113477417254612430110708981668255496105519249618121865605658797754277991125986546424926508, 2, 3)\n",
      "0.0900000000000000 (0.0519370809347252520685872649136154113889575896783660909311486774384967763294410100201853785718930335741505701554636256358169356949220163741754562328432777159041140235202911046252875832381116056987398716939257761619006205913299310880723598291675100978615964192750372577866405938486631637439508364320858, 2, 3)\n",
      "0.130000000000000 (0.0792030225749460145408332846210646211349709553727122695589775991379642815865105358693876664136993146934495792581811221651860043234387972830839584009007088431244195480057541946715422880580136690530288636745487275691029720040890241179152279971140525502557180885918952288021915731111539843731655078009650, 2, 3)\n",
      "0.170000000000000 (0.111181263499968631320136517388785040808714392234047453641809201804708639290279254938652323470002276346079710485543325649046090275258826662034012458243570622205524629138788775066951458339047395559511537749810240846304395803420508311453056782745024686529577255723133918595809482942348237543967846160003, 4, 7)\n",
      "0.210000000000000 (0.149826273160475994962243083701533895900842934406639563544922783813024602459916508959343188251692967568113386862740598596871970918514700800403775752958239520903512136772589541047142530312391410824945291551508017637758651939264125623653517866914330922645399426878943623423072451500026730493789321506636, 4, 7)\n",
      "0.250000000000000 (0.194583725140086155235410867344262555198847337413419396460571687675616808191366806740479594064082037831924757984080937834304785500452520906853755534860850295188536908645060113128466605462778750838482301927791913256899345519152556683960954609815854565747156297795965378511888898199097339590595739963184, 4, 7)\n",
      "0.290000000000000 (0.246248813819103170253557250449355251524182358470425963859211259303798615289095890248478723442933301746121823090879497185382980418432530720592316569672647132718753876297567208875018396019594127419469968573820605380516809172280817095923124075568117875266835223189694717618200541375491919546679627098467, 4, 7)\n",
      "0.330000000000000 (0.305711343206456535065347320087438603464924475308724063528038459208099421322271293811067461182623734565140057698384504321768168205679408867081213453787162538160335263784242371458734357856213201079531522786702433012164371829170292653473361351573652392532724606923212418835000408796683348784457264111052, 4, 7)\n",
      "0.370000000000000 (0.373966429543365074817695190057943133748849296316293016605715723578219057277796879857315638543939944511494607661966046966136173460500005119867241883996572229561550012814088131390300062064484716155148271213476199228912371725988542658561793549101843469396474674653770477560665905219304663796828624873265, 4, 7)\n",
      "0.410000000000000 (0.452126376701729070189230306846564166572718811750208095294640063601049113790103772310658620779822483542466716249347768517447112764806799712472932886358915375650933223964845094374376513000612507694391310907365957562029322741530071576739195666770017192298200796425941866160240244584347982547800294338410, 4, 7)\n",
      "0.450000000000000 (0.541433850160674856517448019977648670845387468609120824704039687062082365058862967523552961325586337836348173605227514038998558396631077325859615480296792512772133696891677065764305911703916867104804927875994085360984285663433909652187556181498138595496488010425855281207978804879931061852800799756917, 4, 7)\n",
      "0.490000000000000 (0.643276488631938665905352690029550515258841518006625633245321825184230438817001007398166180674071026761014493558595088627772662382841185013505094743174300363527368853334206213217354029111657745924317354222327336246191131256221501182273919522940639882386609873185598418596322399256320888450121570394212, 4, 7)\n",
      "0.530000000000000 (0.782274375222570659961116752409324914028545518530568244320104431746104885735461769616383026384078842399462241244581615655826225425861047007355692369799948454253659291398201594313709988207531393383294538319815566762354200807118161016244669292398154414432780957805186418730929458670499355583639366807496, 14, 113)\n",
      "0.570000000000000 (1.01884142574031551509021338668081500059651084095766586110657227080467560613268941623508491511136916158752831640137800592349753586674611323376787825530400982051690086491024022896463721852472889392683539307104501345623645811741468826667843990073735076008410738714094795624533929203128446699606735615606, 14, 113)\n",
      "0.610000000000000 (1.32041627446091249684010282433791853388208830739656554504138875808096002722343829956112453368302449982309552879586646808802152034816717620334622823023810628771492706007214793761849531553602264771273615622992631932925771633549693623574091063218430747286446606981048690064876572566265298842449766093359, 14, 113)\n",
      "0.650000000000000 (1.77606150694455767148184879493035887223003417395280279720283805453747271273934846538180951981092679591381731044243677198786743664042472880933235210451979387660865985682252547374928040543948333428791944282726895450499622924451542431454744301895332923950015913854758146588145372911146101685185764793123, 34, 1327)\n",
      "0.690000000000000 (2.51494758180812497524004824914538864215457135214415764156856021955949292849607775801439209422484553476893581354288954398402859547490062743970891503842286272825447055396110162612007004241446273913524824849127987779554312507146909153549001997795834074088281582457832963082371713882142574398014399748687, 34, 1327)\n",
      "0.730000000000000 (3.54926107221611583152257524364752677913475564845984515579046097207485619605424351240800845901580940996317144955978790853632298886397526616816851581340281228865107002973080947704010636374478688987465249159849949548386146640449395044703904284644139242341066041035459498716689367467428185462776529563374, 34, 1327)\n",
      "0.770000000000000 (5.12182230348182730576342401351876551208525168860138306791801121718534370070661507654496625833636423338279349496907637710728402502004783185640546392968476514453708497086637272112232436492441948446521882798746778382139248643241899662976156695772601498121414397776266212838948354134427604190418086056576, 72, 31397)\n",
      "0.810000000000000 (8.15293966895682191988905194405319109615825254285457443436102887983737009629372030499598020896742552803941325831592633996341564615822777249900088377876688336896985842163801399806797855932027735326506916167614518727288169134555219040681812889496872163795527757013603506051256509476820385589025707472966, 72, 31397)\n"
     ]
    }
   ],
   "source": [
    "for a in range(20):\n",
    "    alpha = 0.05 + 0.04 * a\n",
    "    print alpha, estimate_c_alpha(alpha)"
   ]
  },
  {
   "cell_type": "markdown",
   "metadata": {},
   "source": [
    "It appears that starting at $\\alpha = 0.005$ will be fine, though not a lot happens until $\\alpha \\approx 0.5$. The semiimportant data there is really just the value of $C(\\alpha)$."
   ]
  },
  {
   "cell_type": "markdown",
   "metadata": {},
   "source": [
    "Let us now set up the data structures to store the data. These will be a set of dictionaries, contained in a \"model\" dictionary."
   ]
  },
  {
   "cell_type": "code",
   "execution_count": 316,
   "metadata": {
    "collapsed": false
   },
   "outputs": [],
   "source": [
    "experimental_model = dict()\n",
    "PNT_model = dict()\n",
    "naive_cramer_model = dict()\n",
    "current_cramer_model = dict()\n",
    "weak_cramer_model = dict()\n",
    "AM_model = dict()\n",
    "\n",
    "models = dict()\n",
    "models[\"experimental\"] = experimental_model\n",
    "models[\"PNT\"] = PNT_model\n",
    "models[\"naive\"] = naive_cramer_model\n",
    "models[\"current\"] = current_cramer_model\n",
    "models[\"weak\"] = weak_cramer_model\n",
    "models[\"AM\"] = AM_model"
   ]
  },
  {
   "cell_type": "markdown",
   "metadata": {},
   "source": [
    "In each model dictionary, the keys will be values of $\\alpha$ from $0.005$ to $0.995$, and the values will be `(C(alpha), gap, lower_prime)` tuples. That's that.\n",
    "\n",
    "I'll store the data as pickled dictionaries, and as json dumps (for external portability)."
   ]
  },
  {
   "cell_type": "code",
   "execution_count": 317,
   "metadata": {
    "collapsed": true
   },
   "outputs": [],
   "source": [
    "RF = RealField(1000)\n",
    "def RF_F(A, B, alpha, x):\n",
    "    return (RF(x) + B*RF(log(x))**A)**alpha - RF(x)**alpha\n",
    "\n",
    "def RF_g(A, B, alpha, x):\n",
    "    return (RF(1) + A * B * RF(log(x))**(A-1)/RF(x)) - (RF(1) + B*RF(log(x))**A / RF(x))**(1-alpha)\n",
    "\n",
    "\n",
    "def maximize_model(A, B, alpha):\n",
    "    fun = lambda x: RF_F(A, B, alpha, x)\n",
    "    deriv = lambda x: RF_g(A, B, alpha, x)\n",
    "    estimate_lower_prime = 2*RF(exp(A/(1 - alpha)))\n",
    "    lower_prime = bisection_rootfinding(deriv, start)\n",
    "    Calpha = fun(lower_prime)\n",
    "    gap = B*log(lower_prime)**A\n",
    "    return (Calpha, gap, lower_prime)"
   ]
  },
  {
   "cell_type": "code",
   "execution_count": 318,
   "metadata": {
    "collapsed": true
   },
   "outputs": [],
   "source": [
    "def make_experimental_data(alpha):\n",
    "    Calpha, gap, lower_prime = estimate_c_alpha(alpha)\n",
    "    return (Calpha, gap, lower_prime)\n",
    "\n",
    "def make_model_data(A, B, alpha):\n",
    "    return maximize_model(A,B,alpha)\n",
    "\n",
    "def make_PNT_model_data(alpha):\n",
    "    return make_model_data(1,1,alpha)\n",
    "\n",
    "def make_naive_model_data(alpha):\n",
    "    return make_model_data(2,1,alpha)\n",
    "\n",
    "def make_current_model_data(alpha):\n",
    "    return make_model_data(2,1.1229189671337703396, alpha)\n",
    "\n",
    "def make_weak_model_data(alpha):\n",
    "    return make_model_data(2, 10, alpha)\n",
    "\n",
    "def make_AM_model_data(alpha):\n",
    "    return make_model_data(2.5, 1, alpha)"
   ]
  },
  {
   "cell_type": "code",
   "execution_count": 319,
   "metadata": {
    "collapsed": false
   },
   "outputs": [
    {
     "name": "stdout",
     "output_type": "stream",
     "text": [
      "0\n",
      "50\n",
      "100\n"
     ]
    },
    {
     "ename": "KeyboardInterrupt",
     "evalue": "",
     "output_type": "error",
     "traceback": [
      "\u001b[0;31m---------------------------------------------------------------------------\u001b[0m",
      "\u001b[0;31mKeyboardInterrupt\u001b[0m                         Traceback (most recent call last)",
      "\u001b[0;32m<ipython-input-319-4e534e1bc305>\u001b[0m in \u001b[0;36m<module>\u001b[0;34m()\u001b[0m\n\u001b[1;32m      1\u001b[0m \u001b[0;32mfor\u001b[0m \u001b[0ma\u001b[0m \u001b[0;32min\u001b[0m \u001b[0mrange\u001b[0m\u001b[0;34m(\u001b[0m\u001b[0mInteger\u001b[0m\u001b[0;34m(\u001b[0m\u001b[0;36m1000\u001b[0m\u001b[0;34m)\u001b[0m\u001b[0;34m)\u001b[0m\u001b[0;34m:\u001b[0m\u001b[0;34m\u001b[0m\u001b[0m\n\u001b[1;32m      2\u001b[0m     \u001b[0malpha\u001b[0m \u001b[0;34m=\u001b[0m \u001b[0mRealNumber\u001b[0m\u001b[0;34m(\u001b[0m\u001b[0;34m'0.000'\u001b[0m\u001b[0;34m)\u001b[0m \u001b[0;34m+\u001b[0m \u001b[0ma\u001b[0m\u001b[0;34m/\u001b[0m\u001b[0mInteger\u001b[0m\u001b[0;34m(\u001b[0m\u001b[0;36m1000\u001b[0m\u001b[0;34m)\u001b[0m\u001b[0;34m\u001b[0m\u001b[0m\n\u001b[0;32m----> 3\u001b[0;31m     \u001b[0mmodels\u001b[0m\u001b[0;34m[\u001b[0m\u001b[0;34m\"experimental\"\u001b[0m\u001b[0;34m]\u001b[0m\u001b[0;34m[\u001b[0m\u001b[0malpha\u001b[0m\u001b[0;34m]\u001b[0m \u001b[0;34m=\u001b[0m \u001b[0mmake_experimental_data\u001b[0m\u001b[0;34m(\u001b[0m\u001b[0malpha\u001b[0m\u001b[0;34m)\u001b[0m\u001b[0;34m\u001b[0m\u001b[0m\n\u001b[0m\u001b[1;32m      4\u001b[0m     \u001b[0mmodels\u001b[0m\u001b[0;34m[\u001b[0m\u001b[0;34m\"PNT\"\u001b[0m\u001b[0;34m]\u001b[0m\u001b[0;34m[\u001b[0m\u001b[0malpha\u001b[0m\u001b[0;34m]\u001b[0m \u001b[0;34m=\u001b[0m \u001b[0mmake_PNT_model_data\u001b[0m\u001b[0;34m(\u001b[0m\u001b[0malpha\u001b[0m\u001b[0;34m)\u001b[0m\u001b[0;34m\u001b[0m\u001b[0m\n\u001b[1;32m      5\u001b[0m     \u001b[0mmodels\u001b[0m\u001b[0;34m[\u001b[0m\u001b[0;34m\"naive\"\u001b[0m\u001b[0;34m]\u001b[0m\u001b[0;34m[\u001b[0m\u001b[0malpha\u001b[0m\u001b[0;34m]\u001b[0m \u001b[0;34m=\u001b[0m \u001b[0mmake_naive_model_data\u001b[0m\u001b[0;34m(\u001b[0m\u001b[0malpha\u001b[0m\u001b[0;34m)\u001b[0m\u001b[0;34m\u001b[0m\u001b[0m\n",
      "\u001b[0;32m<ipython-input-318-6d54b903dad5>\u001b[0m in \u001b[0;36mmake_experimental_data\u001b[0;34m(alpha)\u001b[0m\n\u001b[1;32m      1\u001b[0m \u001b[0;32mdef\u001b[0m \u001b[0mmake_experimental_data\u001b[0m\u001b[0;34m(\u001b[0m\u001b[0malpha\u001b[0m\u001b[0;34m)\u001b[0m\u001b[0;34m:\u001b[0m\u001b[0;34m\u001b[0m\u001b[0m\n\u001b[0;32m----> 2\u001b[0;31m     \u001b[0mCalpha\u001b[0m\u001b[0;34m,\u001b[0m \u001b[0mgap\u001b[0m\u001b[0;34m,\u001b[0m \u001b[0mlower_prime\u001b[0m \u001b[0;34m=\u001b[0m \u001b[0mestimate_c_alpha\u001b[0m\u001b[0;34m(\u001b[0m\u001b[0malpha\u001b[0m\u001b[0;34m)\u001b[0m\u001b[0;34m\u001b[0m\u001b[0m\n\u001b[0m\u001b[1;32m      3\u001b[0m     \u001b[0;32mreturn\u001b[0m \u001b[0;34m(\u001b[0m\u001b[0mCalpha\u001b[0m\u001b[0;34m,\u001b[0m \u001b[0mgap\u001b[0m\u001b[0;34m,\u001b[0m \u001b[0mlower_prime\u001b[0m\u001b[0;34m)\u001b[0m\u001b[0;34m\u001b[0m\u001b[0m\n\u001b[1;32m      4\u001b[0m \u001b[0;34m\u001b[0m\u001b[0m\n\u001b[1;32m      5\u001b[0m \u001b[0;32mdef\u001b[0m \u001b[0mmake_model_data\u001b[0m\u001b[0;34m(\u001b[0m\u001b[0mA\u001b[0m\u001b[0;34m,\u001b[0m \u001b[0mB\u001b[0m\u001b[0;34m,\u001b[0m \u001b[0malpha\u001b[0m\u001b[0;34m)\u001b[0m\u001b[0;34m:\u001b[0m\u001b[0;34m\u001b[0m\u001b[0m\n",
      "\u001b[0;32m<ipython-input-300-af9601fa5af5>\u001b[0m in \u001b[0;36mestimate_c_alpha\u001b[0;34m(alpha)\u001b[0m\n\u001b[1;32m      5\u001b[0m     \u001b[0;32mfor\u001b[0m \u001b[0mgap\u001b[0m \u001b[0;32min\u001b[0m \u001b[0mgaps\u001b[0m\u001b[0;34m:\u001b[0m  \u001b[0;31m# Note: It is possible to optimize this selection based on vals for other alpha\u001b[0m\u001b[0;34m\u001b[0m\u001b[0m\n\u001b[1;32m      6\u001b[0m         \u001b[0ma\u001b[0m\u001b[0;34m,\u001b[0m\u001b[0mb\u001b[0m \u001b[0;34m=\u001b[0m \u001b[0mgaps_dict\u001b[0m\u001b[0;34m[\u001b[0m\u001b[0mgap\u001b[0m\u001b[0;34m]\u001b[0m\u001b[0;34m\u001b[0m\u001b[0m\n\u001b[0;32m----> 7\u001b[0;31m         \u001b[0mdiff\u001b[0m \u001b[0;34m=\u001b[0m \u001b[0mRF\u001b[0m\u001b[0;34m(\u001b[0m\u001b[0mb\u001b[0m\u001b[0;34m)\u001b[0m\u001b[0;34m**\u001b[0m\u001b[0malpha\u001b[0m \u001b[0;34m-\u001b[0m \u001b[0mRF\u001b[0m\u001b[0;34m(\u001b[0m\u001b[0ma\u001b[0m\u001b[0;34m)\u001b[0m\u001b[0;34m**\u001b[0m\u001b[0malpha\u001b[0m\u001b[0;34m\u001b[0m\u001b[0m\n\u001b[0m\u001b[1;32m      8\u001b[0m         \u001b[0;32mif\u001b[0m \u001b[0mdiff\u001b[0m \u001b[0;34m>\u001b[0m \u001b[0mMAX\u001b[0m\u001b[0;34m:\u001b[0m\u001b[0;34m\u001b[0m\u001b[0m\n\u001b[1;32m      9\u001b[0m             \u001b[0mMAX\u001b[0m \u001b[0;34m=\u001b[0m \u001b[0mdiff\u001b[0m\u001b[0;34m\u001b[0m\u001b[0m\n",
      "\u001b[0;32m/home/djlowry/sage/src/sage/rings/real_mpfr.pyx\u001b[0m in \u001b[0;36msage.rings.real_mpfr.RealNumber.__pow__ (/home/djlowry/sage/src/build/cythonized/sage/rings/real_mpfr.c:27712)\u001b[0;34m()\u001b[0m\n\u001b[1;32m   4061\u001b[0m             \u001b[0mrounding_mode\u001b[0m \u001b[0;34m=\u001b[0m \u001b[0;34m(\u001b[0m\u001b[0;34m<\u001b[0m\u001b[0mRealField_class\u001b[0m\u001b[0;34m>\u001b[0m\u001b[0mbase\u001b[0m\u001b[0;34m.\u001b[0m\u001b[0m_parent\u001b[0m\u001b[0;34m)\u001b[0m\u001b[0;34m.\u001b[0m\u001b[0mrnd\u001b[0m\u001b[0;34m\u001b[0m\u001b[0m\n\u001b[1;32m   4062\u001b[0m             \u001b[0mx\u001b[0m \u001b[0;34m=\u001b[0m \u001b[0mbase\u001b[0m\u001b[0;34m.\u001b[0m\u001b[0m_new\u001b[0m\u001b[0;34m(\u001b[0m\u001b[0;34m)\u001b[0m\u001b[0;34m\u001b[0m\u001b[0m\n\u001b[0;32m-> 4063\u001b[0;31m             \u001b[0msig_on\u001b[0m\u001b[0;34m(\u001b[0m\u001b[0;34m)\u001b[0m\u001b[0;34m\u001b[0m\u001b[0m\n\u001b[0m\u001b[1;32m   4064\u001b[0m             \u001b[0;32mif\u001b[0m \u001b[0misinstance\u001b[0m\u001b[0;34m(\u001b[0m\u001b[0mexponent\u001b[0m\u001b[0;34m,\u001b[0m \u001b[0mint\u001b[0m\u001b[0;34m)\u001b[0m\u001b[0;34m:\u001b[0m\u001b[0;34m\u001b[0m\u001b[0m\n\u001b[1;32m   4065\u001b[0m                 \u001b[0mmpfr_pow_si\u001b[0m\u001b[0;34m(\u001b[0m\u001b[0mx\u001b[0m\u001b[0;34m.\u001b[0m\u001b[0mvalue\u001b[0m\u001b[0;34m,\u001b[0m \u001b[0mbase\u001b[0m\u001b[0;34m.\u001b[0m\u001b[0mvalue\u001b[0m\u001b[0;34m,\u001b[0m \u001b[0mexponent\u001b[0m\u001b[0;34m,\u001b[0m \u001b[0mrounding_mode\u001b[0m\u001b[0;34m)\u001b[0m\u001b[0;34m\u001b[0m\u001b[0m\n",
      "\u001b[0;32msrc/cysignals/signals.pyx\u001b[0m in \u001b[0;36mcysignals.signals.sig_raise_exception (build/src/cysignals/signals.c:1328)\u001b[0;34m()\u001b[0m\n",
      "\u001b[0;31mKeyboardInterrupt\u001b[0m: "
     ]
    }
   ],
   "source": [
    "for a in range(1000):\n",
    "    alpha = 0.000 + a/1000\n",
    "    models[\"experimental\"][alpha] = make_experimental_data(alpha)\n",
    "    models[\"PNT\"][alpha] = make_PNT_model_data(alpha)\n",
    "    models[\"naive\"][alpha] = make_naive_model_data(alpha)\n",
    "    models[\"current\"][alpha] = make_current_model_data(alpha)\n",
    "    models[\"weak\"][alpha] = make_weak_model_data(alpha)\n",
    "    models[\"AM\"][alpha] = make_AM_model_data(alpha)\n",
    "    if a%50 == 0:\n",
    "        print a"
   ]
  },
  {
   "cell_type": "code",
   "execution_count": 311,
   "metadata": {
    "collapsed": false
   },
   "outputs": [
    {
     "name": "stdout",
     "output_type": "stream",
     "text": [
      "0.875000000000000\n",
      "weak 103.439058259\n",
      "naive 10.3439058259\n",
      "AM 64.3968893029\n",
      "PNT 0.266884834048\n",
      "current 11.6153678894\n",
      "experimental 22.355658536\n",
      "\n",
      "0.985000000000000\n",
      "weak 8912.19576218\n",
      "naive 891.219576218\n",
      "AM 5697.45715275\n",
      "PNT 21.8068038374\n",
      "current 1000.76953125\n",
      "experimental 832.776922321\n",
      "\n",
      "0.845000000000000\n",
      "weak 31.229314907\n",
      "naive 3.1229314907\n",
      "AM 19.4420827966\n",
      "PNT 0.0805752746273\n",
      "current 3.50679779053\n",
      "experimental 13.1854821199\n",
      "\n",
      "0.955000000000000\n",
      "weak 2535.58416111\n",
      "naive 253.558416111\n",
      "AM 1620.96777277\n",
      "PNT 6.47005390334\n",
      "current 284.7265625\n",
      "experimental 223.130084973\n",
      "\n",
      "0.815000000000000\n",
      "weak 9.41656698088\n",
      "naive 0.941656698088\n",
      "AM 5.86236603164\n",
      "PNT 0.0242958410324\n",
      "current 1.05740404129\n",
      "experimental 8.63920435249\n",
      "\n",
      "0.925000000000000\n",
      "weak 759.339803845\n",
      "naive 75.9339803845\n",
      "AM 472.733628038\n",
      "PNT 1.9591852531\n",
      "current 85.2677001953\n",
      "experimental 75.480606344\n",
      "\n",
      "0.895000000000000\n",
      "weak 229.692445411\n",
      "naive 22.9692445411\n",
      "AM 142.997038351\n",
      "PNT 0.592633297398\n",
      "current 25.7925872803\n",
      "experimental 33.0294996982\n",
      "\n",
      "0.865000000000000\n",
      "weak 69.4015271086\n",
      "naive 6.94015271086\n",
      "AM 43.2065269532\n",
      "PNT 0.179064034001\n",
      "current 7.79323196411\n",
      "experimental 18.6727520997\n",
      "\n",
      "0.975000000000000\n",
      "weak 5862.21613644\n",
      "naive 586.221613644\n",
      "AM 3747.64268523\n",
      "PNT 14.3472982057\n",
      "current 658.279296875\n",
      "experimental 506.109261685\n",
      "\n",
      "0.835000000000000\n",
      "weak 20.9444344524\n",
      "naive 2.09444344524\n",
      "AM 13.0391406269\n",
      "PNT 0.0540390835645\n",
      "current 2.35189056396\n",
      "experimental 11.2743067351\n",
      "\n",
      "0.945000000000000\n",
      "weak 1684.12147112\n",
      "naive 168.412147112\n",
      "AM 1065.55733647\n",
      "PNT 4.34522980876\n",
      "current 189.11315918\n",
      "experimental 155.488949885\n",
      "\n",
      "0.805000000000000\n",
      "weak 6.31258568198\n",
      "naive 0.631258568198\n",
      "AM 3.92995535943\n",
      "PNT 0.0162872072746\n",
      "current 0.708852291107\n",
      "experimental 7.69375161748\n",
      "\n",
      "0.915000000000000\n",
      "weak 509.79073874\n",
      "naive 50.979073874\n",
      "AM 317.374677641\n",
      "PNT 1.31531956109\n",
      "current 57.2453613281\n",
      "experimental 54.5102680352\n",
      "\n",
      "0.885000000000000\n",
      "weak 154.149940431\n",
      "naive 15.4149940431\n",
      "AM 95.9673919803\n",
      "PNT 0.397724824288\n",
      "current 17.3097839355\n",
      "experimental 26.7614644653\n",
      "\n",
      "0.855000000000000\n",
      "weak 46.5581214\n",
      "naive 4.65581214\n",
      "AM 28.9851651824\n",
      "PNT 0.120125383125\n",
      "current 5.228099823\n",
      "experimental 15.5944890002\n",
      "\n",
      "0.965000000000000\n",
      "weak 3855.61133264\n",
      "naive 385.561133264\n",
      "AM 2464.84491045\n",
      "PNT 9.63286394338\n",
      "current 432.955078125\n",
      "experimental 329.783032481\n",
      "\n",
      "0.825000000000000\n",
      "weak 14.044701889\n",
      "naive 1.4044701889\n",
      "AM 8.74365184741\n",
      "PNT 0.0362369688587\n",
      "current 1.57710647583\n",
      "experimental 9.79877042905\n",
      "\n",
      "0.935000000000000\n",
      "weak 1130.91412792\n",
      "naive 113.091412792\n",
      "AM 704.060469353\n",
      "PNT 2.91789034466\n",
      "current 126.992492676\n",
      "experimental 108.340864233\n",
      "\n",
      "0.795000000000000\n",
      "weak 4.2311161609\n",
      "naive 0.42311161609\n",
      "AM 2.63411832656\n",
      "PNT 0.0109167731556\n",
      "current 0.475120067596\n",
      "experimental 6.85070951489\n",
      "\n",
      "0.905000000000000\n",
      "weak 342.212477946\n",
      "naive 34.2212477946\n",
      "AM 213.047367516\n",
      "PNT 0.882948104162\n",
      "current 38.4276885986\n",
      "experimental 42.4342637091\n",
      "\n"
     ]
    }
   ],
   "source": [
    "#t = models.keys()[0]\n",
    "#for k in models[t].keys():\n",
    "#    print k\n",
    "#    for key in models.keys():\n",
    "#        print key, \"{}\".format(float(models[key][k][0]))\n",
    "#    print"
   ]
  },
  {
   "cell_type": "code",
   "execution_count": 315,
   "metadata": {
    "collapsed": false
   },
   "outputs": [
    {
     "data": {
      "text/plain": [
       "(7274.01029667115663804696139950196546879133311653806677755178641413853004747248665248732733004153158249664271458453082621203090220754595578307388531950622042827007945883013060182605287118742812745971870821132458880856535628367573150275722978263740127429950379663513796961444341028077742437063723642042,\n",
       " 9738,\n",
       " 1825353380273296795064168516303102324850159011450737221110852890827600657469117119943865647903448359184405879506116913454583803)"
      ]
     },
     "execution_count": 315,
     "metadata": {},
     "output_type": "execute_result"
    }
   ],
   "source": [
    "estimate_c_alpha(0.999)"
   ]
  },
  {
   "cell_type": "code",
   "execution_count": null,
   "metadata": {
    "collapsed": true
   },
   "outputs": [],
   "source": []
  }
 ],
 "metadata": {
  "kernelspec": {
   "display_name": "SageMath 8.0.rc1",
   "language": "",
   "name": "sagemath"
  },
  "language_info": {
   "codemirror_mode": {
    "name": "ipython",
    "version": 2
   },
   "file_extension": ".py",
   "mimetype": "text/x-python",
   "name": "python",
   "nbconvert_exporter": "python",
   "pygments_lexer": "ipython2",
   "version": "2.7.13"
  }
 },
 "nbformat": 4,
 "nbformat_minor": 2
}
