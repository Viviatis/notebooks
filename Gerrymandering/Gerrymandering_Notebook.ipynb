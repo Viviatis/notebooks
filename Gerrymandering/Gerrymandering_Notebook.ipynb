{
 "cells": [
  {
   "cell_type": "markdown",
   "metadata": {},
   "source": [
    "# Gerrymandering and the Efficiency Gap\n",
    "\n",
    "## David Lowry-Duda"
   ]
  },
  {
   "cell_type": "code",
   "execution_count": 1,
   "metadata": {
    "collapsed": false
   },
   "outputs": [],
   "source": [
    "\"\"\" Code example from Complexity and Computation, a book about\n",
    "exploring complexity science with Python.  Available free from\n",
    "\n",
    "http://greenteapress.com/complexity\n",
    "\n",
    "Copyright 2016 Allen Downey\n",
    "MIT License: http://opensource.org/licenses/MIT\n",
    "\"\"\"\n",
    "from __future__ import print_function, division\n",
    "\n",
    "import sys\n",
    "\n",
    "import numpy as np\n",
    "import matplotlib.pyplot as plt\n",
    "\n",
    "from matplotlib import animation\n",
    "from scipy.signal import convolve2d"
   ]
  },
  {
   "cell_type": "code",
   "execution_count": 2,
   "metadata": {
    "collapsed": true
   },
   "outputs": [],
   "source": [
    "%matplotlib inline"
   ]
  },
  {
   "cell_type": "code",
   "execution_count": 3,
   "metadata": {
    "collapsed": true
   },
   "outputs": [],
   "source": [
    "np.where?"
   ]
  },
  {
   "cell_type": "code",
   "execution_count": 150,
   "metadata": {
    "collapsed": false
   },
   "outputs": [],
   "source": [
    "\"\"\"\n",
    "For animation to work in the notebook, you might have to install\n",
    "ffmpeg.  On Ubuntu and Linux Mint, the following should work.\n",
    "\n",
    "    sudo add-apt-repository ppa:mc3man/trusty-media\n",
    "    sudo apt-get update\n",
    "    sudo apt-get install ffmpeg\n",
    "\"\"\"\n",
    "\n",
    "class Cell2D:\n",
    "    \"\"\"Implements Conway's Game of Life.\"\"\"\n",
    "\n",
    "    def __init__(self, n, m=None):\n",
    "        \"\"\"Initializes the attributes.\n",
    "\n",
    "        n: number of rows\n",
    "        m: number of columns\n",
    "        \"\"\"\n",
    "        m = n if m is None else m\n",
    "        self.array = np.zeros((n, m), np.uint8)\n",
    "\n",
    "    def add_cells(self, row, col, *strings):\n",
    "        \"\"\"Adds cells at the given location.\n",
    "\n",
    "        row: top row index\n",
    "        col: left col index\n",
    "        strings: list of strings of 0s and 1s\n",
    "        \"\"\"\n",
    "        for i, s in enumerate(strings):\n",
    "            self.array[row+i, col:col+len(s)] = np.array([int(b) for b in s])\n",
    "\n",
    "    def step(self):\n",
    "        \"\"\"Executes one time step.\"\"\"\n",
    "        pass\n",
    "\n",
    "\n",
    "class Cell2DViewer:\n",
    "    \"\"\"Generates an animated view of an array image.\"\"\"\n",
    "\n",
    "    cmap = plt.get_cmap('Greens')\n",
    "    options = dict(interpolation='nearest', alpha=0.8,\n",
    "                   vmin=0, vmax=1)\n",
    "\n",
    "    def __init__(self, viewee):\n",
    "        self.viewee = viewee\n",
    "        self.im = None\n",
    "        self.hlines = None\n",
    "        self.vlines = None\n",
    "\n",
    "    # TODO: should this really take iters?\n",
    "    def step(self, iters=1):\n",
    "        \"\"\"Advances the viewee the given number of steps.\"\"\"\n",
    "        for i in range(iters):\n",
    "            self.viewee.step()\n",
    "\n",
    "    def draw(self, grid=False):\n",
    "        \"\"\"Draws the array and any other elements.\n",
    "\n",
    "        grid: boolean, whether to draw grid lines\n",
    "        \"\"\"\n",
    "        self.draw_array(self.viewee.array)\n",
    "        if grid:\n",
    "            self.draw_grid()\n",
    "\n",
    "    def draw_array(self, array=None, cmap=None, **kwds):\n",
    "        \"\"\"Draws the cells.\"\"\"\n",
    "        # Note: we have to make a copy because some implementations\n",
    "        # of step perform updates in place.\n",
    "        if array is None:\n",
    "            array = self.viewee.array\n",
    "        a = array.copy()\n",
    "        cmap = self.cmap if cmap is None else cmap\n",
    "\n",
    "        n, m = a.shape\n",
    "        plt.axis([0, m, 0, n])\n",
    "        plt.xticks([])\n",
    "        plt.yticks([])\n",
    "\n",
    "        options = self.options.copy()\n",
    "        options['extent'] = [0, m, 0, n]\n",
    "        options.update(kwds)\n",
    "        self.im = plt.imshow(a, cmap, **options)\n",
    "\n",
    "    def draw_grid(self):\n",
    "        \"\"\"Draws the grid.\"\"\"\n",
    "        a = self.viewee.array\n",
    "        n, m = a.shape\n",
    "        lw = 2 if m < 10 else 1\n",
    "        options = dict(color='white', linewidth=lw)\n",
    "\n",
    "        rows = 2*np.arange(1, n)\n",
    "        self.hlines = plt.hlines(rows, 0, m, **options)\n",
    "\n",
    "        cols = 5*np.arange(1, m)\n",
    "        self.vlines = plt.vlines(cols, 0, n, **options)\n",
    "\n",
    "    def animate(self, frames=20, interval=200, grid=False):\n",
    "        \"\"\"Creates an animation.\n",
    "\n",
    "        frames: number of frames to draw\n",
    "        interval: time between frames in ms\n",
    "        \"\"\"\n",
    "        fig = plt.figure()\n",
    "        self.draw(grid)\n",
    "        anim = animation.FuncAnimation(fig, self.animate_func,\n",
    "                                       init_func=self.init_func,\n",
    "                                       frames=frames, interval=interval)\n",
    "        return anim\n",
    "\n",
    "    def init_func(self):\n",
    "        \"\"\"Called at the beginning of an animation.\"\"\"\n",
    "        pass\n",
    "\n",
    "    def animate_func(self, i):\n",
    "        \"\"\"Draws one frame of the animation.\"\"\"\n",
    "        if i > 0:\n",
    "            self.step()\n",
    "        a = self.viewee.array\n",
    "        self.im.set_array(a)\n",
    "        return (self.im,)\n",
    "\n",
    "def locs_where(condition):\n",
    "    \"\"\"Find cells where a logical array is True.\n",
    "    \n",
    "    condition: logical array\n",
    "    \n",
    "    returns: array with one set of coordinates per row\n",
    "    \"\"\"\n",
    "    return np.transpose(np.nonzero(condition))\n",
    "\n",
    "from scipy.signal import correlate2d\n",
    "\n",
    "class Schelling(Cell2D):\n",
    "    \"\"\"Represents a grid of Schelling agents.\"\"\"\n",
    "    \n",
    "    options = dict(mode='same', boundary='wrap')\n",
    "\n",
    "#    kernel = np.array([[1, 1, 1],\n",
    "#                       [1, 0, 1],\n",
    "#                       [1, 1, 1]], dtype=np.int8)\n",
    " \n",
    "#    kernel = np.array([[1,1,1,1,1],\n",
    "#                       [1,1,1,1,1],\n",
    "#                       [1,1,0,1,1],\n",
    "#                       [1,1,1,1,1],\n",
    "#                       [1,1,1,1,1]], dtype=np.int8)\n",
    " \n",
    "    kernel = np.array([1]*24 + [0] + [1]*24).reshape((7,7))\n",
    "    \n",
    "    def __init__(self, n, m=None, p=0.5, empty_prob=0.1, red_prob=0.45):\n",
    "        \"\"\"Initializes the attributes.\n",
    "\n",
    "        n: number of rows\n",
    "        m: number of columns\n",
    "        p: threshold on the fraction of similar neighbors\n",
    "        \"\"\"\n",
    "        self.p = p\n",
    "        m = n if m is None else m\n",
    "        # 0 is empty, 1 is red, 2 is blue\n",
    "        empty_prob = 0.1\n",
    "        choices = [0, 1, 2]\n",
    "        probs = [empty_prob, red_prob, 1 - empty_prob - red_prob]\n",
    "        self.array = np.random.choice(choices, (n, m), p=probs).astype(np.int8)\n",
    "\n",
    "    def count_neighbors(self):\n",
    "        \"\"\"Surveys neighboring cells.\n",
    "        \n",
    "        returns: tuple of (occupied, frac_red, frac_same)\n",
    "        \n",
    "        occupied: logical array indicating occupied cells\n",
    "        frac_red: fraction of red neighbors around each cell\n",
    "        frac_same: for each cell, the fraction of similar neighbors\n",
    "        \"\"\"\n",
    "        a = self.array\n",
    "        \n",
    "        red = a==1\n",
    "        blue = a==2\n",
    "        occupied = a!=0\n",
    "\n",
    "        # count red neighbors and all neighbors\n",
    "        num_red = correlate2d(red, self.kernel, **self.options)\n",
    "        num_neighbors = correlate2d(occupied, self.kernel, **self.options)\n",
    "\n",
    "        # compute fraction of similar neighbors\n",
    "        frac_red = num_red / num_neighbors\n",
    "        frac_blue = 1 - frac_red\n",
    "        frac_same = np.where(red, frac_red, frac_blue)\n",
    "        \n",
    "        # no neighbors is considered the same as no similar neighbors \n",
    "        frac_same[num_neighbors == 0] = 0\n",
    "        frac_red[num_neighbors == 0] = 0\n",
    "        \n",
    "        # Unoccupied squares are not similar to anything\n",
    "        frac_same[occupied == 0] = 0\n",
    "        \n",
    "        return occupied, frac_red, frac_same\n",
    "\n",
    "    def segregation(self):\n",
    "        \"\"\"Computes the average fraction of similar neighbors.\n",
    "        \n",
    "        returns: fraction of similar neighbors, averaged over cells\n",
    "        \"\"\"\n",
    "        occupied, _, frac_same = self.count_neighbors()\n",
    "        return np.sum(frac_same) / np.sum(occupied)\n",
    "    \n",
    "    def step(self):\n",
    "        \"\"\"Executes one time step.\n",
    "                \n",
    "        returns: fraction of similar neighbors, averaged over cells\n",
    "        \"\"\"\n",
    "        a = self.array\n",
    "        \n",
    "        # find the unhappy cells\n",
    "        occupied, _, frac_same = self.count_neighbors()\n",
    "        unhappy_locs = locs_where(occupied & (frac_same < self.p))\n",
    "\n",
    "        # find the empty cells\n",
    "        empty = a==0\n",
    "        num_empty = np.sum(empty)\n",
    "        empty_locs = locs_where(empty)\n",
    "\n",
    "        # shuffle the unhappy cells\n",
    "        if len(unhappy_locs):\n",
    "            np.random.shuffle(unhappy_locs)\n",
    "            \n",
    "        # for each unhappy cell, choose a random destination\n",
    "        for source in unhappy_locs:\n",
    "            i = np.random.randint(len(empty_locs))\n",
    "            dest = tuple(empty_locs[i])\n",
    "\n",
    "            # move\n",
    "            a[dest] = a[tuple(source)]\n",
    "            a[tuple(source)] = 0\n",
    "            empty_locs[i] = source\n",
    "        \n",
    "        num_empty2 = np.sum(a==0)\n",
    "        assert num_empty == num_empty2\n",
    "        \n",
    "        # return the average fraction of similar neighbors\n",
    "        return np.sum(frac_same) / np.sum(occupied)\n",
    "\n",
    "from matplotlib.colors import LinearSegmentedColormap\n",
    "\n",
    "def make_cmap(color_dict, vmax=None, name='mycmap'):\n",
    "    \"\"\"Makes a custom color map.\n",
    "    \n",
    "    color_dict: map from numbers to colors\n",
    "    vmax: high end of the range, \n",
    "    name: string name for map\n",
    "    \n",
    "    If vmax is None, uses the max value from color_dict\n",
    "    \n",
    "    returns: pyplot color map\n",
    "    \"\"\"\n",
    "    if vmax is None:\n",
    "        vmax = max(color_dict.keys())\n",
    "    \n",
    "    colors = [(value/vmax, color) for value, color in color_dict.items()]\n",
    "    \n",
    "    cmap = LinearSegmentedColormap.from_list(name, colors)\n",
    "    \n",
    "    return cmap\n",
    "\n",
    "\n",
    "class SchellingViewer(Cell2DViewer):\n",
    "    # colors from http://colorbrewer2.org/#type=qualitative&scheme=Accent&n=5\n",
    "    colors = ['#7fc97f','#beaed4','#fdc086','#ffff99','#386cb0']\n",
    "    cmap = make_cmap({0:'white', 1:colors[2], 2:colors[4]})\n",
    "    options = dict(interpolation='none', alpha=0.8)"
   ]
  },
  {
   "cell_type": "code",
   "execution_count": 151,
   "metadata": {
    "collapsed": false
   },
   "outputs": [
    {
     "data": {
      "text/plain": [
       "0.49116405400266466"
      ]
     },
     "execution_count": 151,
     "metadata": {},
     "output_type": "execute_result"
    },
    {
     "data": {
      "image/png": "[encoded data removed]",
      "text/plain": [
       "<matplotlib.figure.Figure at 0x7f1d065b9c50>"
      ]
     },
     "metadata": {},
     "output_type": "display_data"
    }
   ],
   "source": [
    "grid = Schelling(n=10)\n",
    "viewer = SchellingViewer(grid)\n",
    "viewer.draw(grid=True)\n",
    "grid.segregation()"
   ]
  },
  {
   "cell_type": "code",
   "execution_count": 36,
   "metadata": {
    "collapsed": false
   },
   "outputs": [
    {
     "data": {
      "text/plain": [
       "array([[0, 2, 2, 1, 2, 1, 2, 1, 2, 1],\n",
       "       [1, 1, 1, 2, 2, 1, 2, 2, 1, 0],\n",
       "       [1, 1, 2, 2, 0, 2, 1, 1, 1, 2],\n",
       "       [2, 0, 2, 1, 2, 1, 2, 2, 1, 1],\n",
       "       [2, 1, 1, 0, 1, 1, 2, 1, 2, 1],\n",
       "       [2, 2, 1, 1, 0, 1, 2, 2, 2, 1],\n",
       "       [2, 2, 1, 2, 2, 1, 2, 2, 2, 2],\n",
       "       [1, 1, 2, 1, 2, 1, 2, 2, 1, 2],\n",
       "       [2, 2, 1, 1, 1, 2, 2, 2, 2, 2],\n",
       "       [1, 1, 1, 1, 2, 2, 1, 2, 1, 2]], dtype=int8)"
      ]
     },
     "execution_count": 36,
     "metadata": {},
     "output_type": "execute_result"
    }
   ],
   "source": [
    "grid.array"
   ]
  },
  {
   "cell_type": "code",
   "execution_count": 37,
   "metadata": {
    "collapsed": true
   },
   "outputs": [],
   "source": [
    "arr = grid.array"
   ]
  },
  {
   "cell_type": "code",
   "execution_count": 38,
   "metadata": {
    "collapsed": false
   },
   "outputs": [
    {
     "data": {
      "text/plain": [
       "array([[0, 2, 2, 1, 2, 1, 2, 1, 2, 1],\n",
       "       [1, 1, 1, 2, 2, 1, 2, 2, 1, 0],\n",
       "       [1, 1, 2, 2, 0, 2, 1, 1, 1, 2],\n",
       "       [2, 0, 2, 1, 2, 1, 2, 2, 1, 1],\n",
       "       [2, 1, 1, 0, 1, 1, 2, 1, 2, 1]], dtype=int8)"
      ]
     },
     "execution_count": 38,
     "metadata": {},
     "output_type": "execute_result"
    }
   ],
   "source": [
    "arr[0:5]"
   ]
  },
  {
   "cell_type": "code",
   "execution_count": 39,
   "metadata": {
    "collapsed": false
   },
   "outputs": [
    {
     "data": {
      "text/plain": [
       "array([[0, 2, 2, 1, 2, 1, 2, 1, 2, 1],\n",
       "       [1, 1, 1, 2, 2, 1, 2, 2, 1, 0],\n",
       "       [1, 1, 2, 2, 0, 2, 1, 1, 1, 2],\n",
       "       [2, 0, 2, 1, 2, 1, 2, 2, 1, 1],\n",
       "       [2, 1, 1, 0, 1, 1, 2, 1, 2, 1]], dtype=int8)"
      ]
     },
     "execution_count": 39,
     "metadata": {},
     "output_type": "execute_result"
    }
   ],
   "source": [
    "arr[0:5]"
   ]
  },
  {
   "cell_type": "code",
   "execution_count": 40,
   "metadata": {
    "collapsed": true
   },
   "outputs": [],
   "source": [
    "dists = [arr[2*i:2*(i+1),5*j:5*(j+1)] for i in range(5) for j in range(2)]"
   ]
  },
  {
   "cell_type": "code",
   "execution_count": 11,
   "metadata": {
    "collapsed": false
   },
   "outputs": [
    {
     "data": {
      "text/plain": [
       "array([[1, 1, 2, 1, 2],\n",
       "       [2, 1, 2, 2, 2],\n",
       "       [1, 1, 1, 2, 1],\n",
       "       [2, 1, 1, 1, 2],\n",
       "       [2, 2, 1, 1, 2]], dtype=int8)"
      ]
     },
     "execution_count": 11,
     "metadata": {},
     "output_type": "execute_result"
    }
   ],
   "source": [
    "arr[:5,0:5]"
   ]
  },
  {
   "cell_type": "code",
   "execution_count": 12,
   "metadata": {
    "collapsed": false
   },
   "outputs": [
    {
     "data": {
      "text/plain": [
       "array([[1, 1, 2, 1, 2],\n",
       "       [2, 1, 2, 2, 2]], dtype=int8)"
      ]
     },
     "execution_count": 12,
     "metadata": {},
     "output_type": "execute_result"
    }
   ],
   "source": [
    "dists[0]"
   ]
  },
  {
   "cell_type": "code",
   "execution_count": 13,
   "metadata": {
    "collapsed": false
   },
   "outputs": [
    {
     "data": {
      "text/plain": [
       "array([[1, 2, 1, 2, 2],\n",
       "       [2, 1, 1, 0, 2]], dtype=int8)"
      ]
     },
     "execution_count": 13,
     "metadata": {},
     "output_type": "execute_result"
    }
   ],
   "source": [
    "dists[1]"
   ]
  },
  {
   "cell_type": "code",
   "execution_count": 14,
   "metadata": {
    "collapsed": false
   },
   "outputs": [
    {
     "data": {
      "text/plain": [
       "array([[1, 1, 1, 2, 1],\n",
       "       [2, 1, 1, 1, 2]], dtype=int8)"
      ]
     },
     "execution_count": 14,
     "metadata": {},
     "output_type": "execute_result"
    }
   ],
   "source": [
    "dists[2]"
   ]
  },
  {
   "cell_type": "code",
   "execution_count": 15,
   "metadata": {
    "collapsed": false
   },
   "outputs": [],
   "source": [
    "d0 = dists[0]"
   ]
  },
  {
   "cell_type": "code",
   "execution_count": 16,
   "metadata": {
    "collapsed": false
   },
   "outputs": [],
   "source": [
    "d0f = d0.flatten()"
   ]
  },
  {
   "cell_type": "code",
   "execution_count": 17,
   "metadata": {
    "collapsed": false
   },
   "outputs": [],
   "source": [
    "l = list(d0f)"
   ]
  },
  {
   "cell_type": "code",
   "execution_count": 18,
   "metadata": {
    "collapsed": false
   },
   "outputs": [
    {
     "data": {
      "text/plain": [
       "[1, 1, 2, 1, 2, 2, 1, 2, 2, 2]"
      ]
     },
     "execution_count": 18,
     "metadata": {},
     "output_type": "execute_result"
    }
   ],
   "source": [
    "l"
   ]
  },
  {
   "cell_type": "code",
   "execution_count": 19,
   "metadata": {
    "collapsed": false
   },
   "outputs": [
    {
     "data": {
      "text/plain": [
       "6"
      ]
     },
     "execution_count": 19,
     "metadata": {},
     "output_type": "execute_result"
    }
   ],
   "source": [
    "l.count(2)"
   ]
  },
  {
   "cell_type": "code",
   "execution_count": 152,
   "metadata": {
    "collapsed": false
   },
   "outputs": [],
   "source": [
    "class Districts(Schelling):\n",
    "    \n",
    "    def __init__(self, n, m=None, p=0.5, rows=None, cols=None, empty_prob=0.1, red_prob=0.45):\n",
    "        self.p = p\n",
    "        self.n = n\n",
    "        self.m = n if m is None else m\n",
    "        self.rows = rows if rows is not None else 2\n",
    "        self.cols = cols if cols is not None else 2\n",
    "        self.schelling_grid = Schelling(n,m=m,p=p, empty_prob=empty_prob, red_prob=red_prob)\n",
    "        self.array = self.schelling_grid.array\n",
    "        self.row_mult = self.n//self.rows\n",
    "        self.col_mult = self.m//self.cols\n",
    "        try:\n",
    "            assert(self.row_mult*self.rows==self.n)\n",
    "            assert(self.col_mult*self.cols==self.m)\n",
    "        except AssertionError:\n",
    "            raise Exception((\"The number of rows and number of columns must\"\n",
    "                             \" divide the size of the grid.\"))\n",
    "        self.districts = self.make_districts()\n",
    "        \n",
    "    def make_districts(self, array=None):\n",
    "        if array is None:\n",
    "            array = self.array\n",
    "        return [array[self.row_mult*i: self.row_mult*(i+1),\n",
    "                      self.col_mult*j: self.col_mult*(j+1)]\n",
    "                for i in range(self.rows) for j in range(self.cols)]\n",
    "    \n",
    "    def votes(self, output=False):\n",
    "        votes = dict()\n",
    "        if output:\n",
    "            print (\"Vote totals\\n-----------\\n\")\n",
    "        for num, district in enumerate(self.districts):\n",
    "            IS_RED = 1\n",
    "            IS_BLUE = 2\n",
    "            votes[num] = {'red': list(district.flatten()).count(IS_RED),\n",
    "                          'blue': list(district.flatten()).count(IS_BLUE)}\n",
    "            if output:\n",
    "                print (\"District {}::   Red vote: {},   Blue vote: {}\".format(\n",
    "                        num, votes[num]['red'], votes[num]['blue']))\n",
    "        return votes\n",
    "    \n",
    "    def tally_votes(self, output=False):\n",
    "        tallies = self.votes()\n",
    "        if output:\n",
    "            print (\"Tallying votes\\n--------------\\n\")\n",
    "        for num, district in enumerate(self.districts):\n",
    "            dist_tally = tallies[num]\n",
    "            dist_tally.update(self.determine_winner(dist_tally))\n",
    "        return tallies\n",
    "            \n",
    "    def determine_winner(self, vote_tally):\n",
    "        res = dict()\n",
    "        if vote_tally['red'] > vote_tally['blue']:\n",
    "            res['winner'] = 'red'\n",
    "            res['red_wasted'] = vote_tally['red'] - vote_tally['blue'] - 1\n",
    "            res['blue_wasted'] = vote_tally['blue']\n",
    "        elif vote_tally['blue'] > vote_tally['red']:\n",
    "            res['winner'] = 'blue'\n",
    "            res['blue_wasted'] = vote_tally['blue'] - vote_tally['red'] - 1\n",
    "            res['red_wasted'] = vote_tally['red']\n",
    "        else:\n",
    "            res['winner'] = 'tie'\n",
    "            res['red_wasted'] = 0\n",
    "            res['blue_wasted'] = 0\n",
    "        return res\n",
    "    \n",
    "    def net_wasted_votes_by_district(self):\n",
    "        \"\"\"\n",
    "        We adopt the convention that 1 wasted vote means a wasted blue vote,\n",
    "        while -1 wasted vote means a wasted red vote.\n",
    "        \"\"\"\n",
    "        res = dict()\n",
    "        tallies = self.tally_votes()\n",
    "        for num, district in enumerate(self.districts):\n",
    "            res[num] = tallies[num]['blue_wasted'] - tallies[num]['red_wasted']\n",
    "        return res\n",
    "    \n",
    "    def net_wasted_votes(self):\n",
    "        wasted_by_dist = self.net_wasted_votes_by_district()\n",
    "        return sum(wasted_by_dist[num] for num in wasted_by_dist.keys())\n",
    "    \n",
    "    def efficiency_gap(self):\n",
    "        return abs(self.net_wasted_votes()) / (self.n * self.m)\n",
    "        \n",
    "    \n",
    "class District_Viewer(SchellingViewer):\n",
    "    \n",
    "    def __init__(self, districts):\n",
    "        super().__init__(districts.schelling_grid)\n",
    "        self.row_multiplier = districts.row_mult\n",
    "        self.col_multiplier = districts.col_mult\n",
    "        \n",
    "    def draw_grid(self):\n",
    "        \"\"\"Draws the grid.\"\"\"\n",
    "        a = self.viewee.array\n",
    "        n, m = a.shape\n",
    "        lw = 2 if m < 10 else 1\n",
    "        options = dict(color='white', linewidth=lw)\n",
    "\n",
    "        rows = self.row_multiplier*np.arange(1, n)\n",
    "        self.hlines = plt.hlines(rows, 0, m, **options)\n",
    "\n",
    "        cols = self.col_multiplier*np.arange(1, m)\n",
    "        self.vlines = plt.vlines(cols, 0, n, **options)"
   ]
  },
  {
   "cell_type": "code",
   "execution_count": 153,
   "metadata": {
    "collapsed": false
   },
   "outputs": [
    {
     "data": {
      "text/plain": [
       "0.48894444017267641"
      ]
     },
     "execution_count": 153,
     "metadata": {},
     "output_type": "execute_result"
    },
    {
     "data": {
      "image/png": "[encoded data removed]",
      "text/plain": [
       "<matplotlib.figure.Figure at 0x7f1d068662e8>"
      ]
     },
     "metadata": {},
     "output_type": "display_data"
    }
   ],
   "source": [
    "dgrid = Districts(10, cols=5, p=.2)\n",
    "viewer = District_Viewer(dgrid)\n",
    "viewer.draw(grid=True)\n",
    "dgrid.segregation()"
   ]
  },
  {
   "cell_type": "code",
   "execution_count": 154,
   "metadata": {
    "collapsed": false
   },
   "outputs": [
    {
     "data": {
      "text/plain": [
       "12"
      ]
     },
     "execution_count": 154,
     "metadata": {},
     "output_type": "execute_result"
    }
   ],
   "source": [
    "dgrid.net_wasted_votes()"
   ]
  },
  {
   "cell_type": "code",
   "execution_count": 155,
   "metadata": {
    "collapsed": false
   },
   "outputs": [
    {
     "data": {
      "text/plain": [
       "0.48894444017267641"
      ]
     },
     "execution_count": 155,
     "metadata": {},
     "output_type": "execute_result"
    }
   ],
   "source": [
    "dgrid.step()"
   ]
  },
  {
   "cell_type": "code",
   "execution_count": 156,
   "metadata": {
    "collapsed": false
   },
   "outputs": [
    {
     "data": {
      "text/plain": [
       "12"
      ]
     },
     "execution_count": 156,
     "metadata": {},
     "output_type": "execute_result"
    }
   ],
   "source": [
    "dgrid.net_wasted_votes()"
   ]
  },
  {
   "cell_type": "code",
   "execution_count": 181,
   "metadata": {
    "collapsed": false
   },
   "outputs": [
    {
     "name": "stdout",
     "output_type": "stream",
     "text": [
      "Beginning simulation.\n",
      "After 0::   segregation: 0.5016512105329243   efficiency gap: 0.383\n",
      "After 1::   segregation: 0.5744897341172209   efficiency gap: 0.16613333333333333\n",
      "After 2::   segregation: 0.663514966653626   efficiency gap: 0.05865555555555556\n",
      "After 3::   segregation: 0.7327100321254049   efficiency gap: 0.0213\n",
      "After 4::   segregation: 0.7780127960032174   efficiency gap: 0.021966666666666666\n",
      "After 5::   segregation: 0.8107205600326843   efficiency gap: 0.021377777777777777\n",
      "After 6::   segregation: 0.8313115713169882   efficiency gap: 0.021666666666666667\n",
      "After 7::   segregation: 0.8464624942432672   efficiency gap: 0.014966666666666666\n",
      "After 8::   segregation: 0.8566399482456004   efficiency gap: 0.015322222222222221\n",
      "After 9::   segregation: 0.8648838771659061   efficiency gap: 0.051644444444444444\n",
      "After 10::   segregation: 0.8706854446161246   efficiency gap: 0.05188888888888889\n",
      "After 11::   segregation: 0.8749663216958591   efficiency gap: 0.05168888888888889\n",
      "After 12::   segregation: 0.8787221504190752   efficiency gap: 0.05162222222222222\n",
      "After 13::   segregation: 0.8810912743917444   efficiency gap: 0.0516\n",
      "After 14::   segregation: 0.8834957879646578   efficiency gap: 0.05213333333333333\n",
      "After 15::   segregation: 0.8856462764267043   efficiency gap: 0.051922222222222224\n",
      "After 16::   segregation: 0.8875154139286313   efficiency gap: 0.05193333333333333\n",
      "After 17::   segregation: 0.8889300343771132   efficiency gap: 0.05223333333333333\n",
      "After 18::   segregation: 0.8901809394196629   efficiency gap: 0.05254444444444444\n",
      "After 19::   segregation: 0.8912682906081991   efficiency gap: 0.052444444444444446\n",
      "After 20::   segregation: 0.8918268911203946   efficiency gap: 0.0524\n",
      "After 21::   segregation: 0.8925761027808662   efficiency gap: 0.05235555555555556\n",
      "After 22::   segregation: 0.8929688723616287   efficiency gap: 0.052455555555555554\n",
      "After 23::   segregation: 0.8933874630048658   efficiency gap: 0.052477777777777776\n",
      "After 24::   segregation: 0.8936930185169528   efficiency gap: 0.052455555555555554\n",
      "After 25::   segregation: 0.8939778638247732   efficiency gap: 0.05243333333333333\n",
      "After 26::   segregation: 0.8942739494325869   efficiency gap: 0.05257777777777778\n",
      "After 27::   segregation: 0.8944645735534199   efficiency gap: 0.052566666666666664\n",
      "After 28::   segregation: 0.8945975792673171   efficiency gap: 0.05262222222222222\n",
      "After 29::   segregation: 0.8947874199722133   efficiency gap: 0.05255555555555556\n",
      "After 30::   segregation: 0.8949802429169359   efficiency gap: 0.05254444444444444\n",
      "After 31::   segregation: 0.8950397417523531   efficiency gap: 0.05251111111111111\n",
      "After 32::   segregation: 0.8951627497094584   efficiency gap: 0.0525\n",
      "After 33::   segregation: 0.8951930948727357   efficiency gap: 0.05252222222222222\n",
      "After 34::   segregation: 0.895251037186531   efficiency gap: 0.05252222222222222\n",
      "After 35::   segregation: 0.8952405539477875   efficiency gap: 0.052533333333333335\n",
      "After 36::   segregation: 0.895238959258152   efficiency gap: 0.05252222222222222\n",
      "After 37::   segregation: 0.8952499402352191   efficiency gap: 0.05252222222222222\n",
      "After 38::   segregation: 0.8952382265842718   efficiency gap: 0.05252222222222222\n",
      "After 39::   segregation: 0.8952418599518039   efficiency gap: 0.052533333333333335\n",
      "After 40::   segregation: 0.8952421049385635   efficiency gap: 0.05252222222222222\n",
      "After 41::   segregation: 0.8952514528177241   efficiency gap: 0.05252222222222222\n",
      "After 42::   segregation: 0.8952388734761009   efficiency gap: 0.05254444444444444\n",
      "After 43::   segregation: 0.89523588266055   efficiency gap: 0.05251111111111111\n",
      "After 44::   segregation: 0.8952492088980302   efficiency gap: 0.05251111111111111\n",
      "After 45::   segregation: 0.8952526754612969   efficiency gap: 0.0525\n",
      "After 46::   segregation: 0.8952529890339863   efficiency gap: 0.0525\n",
      "After 47::   segregation: 0.8952427735879952   efficiency gap: 0.05251111111111111\n",
      "After 48::   segregation: 0.8952607378153931   efficiency gap: 0.05251111111111111\n",
      "After 49::   segregation: 0.8952633946373382   efficiency gap: 0.0525\n"
     ]
    },
    {
     "data": {
      "image/png": "[encoded data removed]",
      "text/plain": [
       "<matplotlib.figure.Figure at 0x7f1d067d6048>"
      ]
     },
     "metadata": {},
     "output_type": "display_data"
    }
   ],
   "source": [
    "dgrid = Districts(300, cols=5, rows=5, p=.5, red_prob=0.47)\n",
    "viewer = District_Viewer(dgrid)\n",
    "viewer.draw(grid=True)\n",
    "print(\"Beginning simulation.\")\n",
    "for i in range(50):\n",
    "    print(\"After {}::   segregation: {}   efficiency gap: {}\"\n",
    "          .format(i, dgrid.segregation(), dgrid.efficiency_gap()))\n",
    "    dgrid.step()"
   ]
  },
  {
   "cell_type": "code",
   "execution_count": 182,
   "metadata": {
    "collapsed": false
   },
   "outputs": [
    {
     "data": {
      "image/png": "[encoded data removed]",
      "text/plain": [
       "<matplotlib.figure.Figure at 0x7f1d06956320>"
      ]
     },
     "metadata": {},
     "output_type": "display_data"
    }
   ],
   "source": [
    "viewer.draw(grid=True)"
   ]
  },
  {
   "cell_type": "code",
   "execution_count": 130,
   "metadata": {
    "collapsed": false
   },
   "outputs": [
    {
     "data": {
      "text/plain": [
       "array([[2, 2, 2, 1, 2, 2, 2],\n",
       "       [2, 2, 2, 1, 2, 2, 2],\n",
       "       [2, 2, 2, 1, 2, 2, 2]])"
      ]
     },
     "execution_count": 130,
     "metadata": {},
     "output_type": "execute_result"
    }
   ],
   "source": [
    "np.array(3*[np.array(7*[np.array(1)])]) + np.array([np.array([1,1,1,0,1,1,1])])"
   ]
  },
  {
   "cell_type": "code",
   "execution_count": 139,
   "metadata": {
    "collapsed": false
   },
   "outputs": [],
   "source": [
    "d = np.array(3*[np.ones(7)])"
   ]
  },
  {
   "cell_type": "code",
   "execution_count": 140,
   "metadata": {
    "collapsed": false
   },
   "outputs": [
    {
     "data": {
      "text/plain": [
       "array([[ 1.,  1.,  1.,  1.,  1.,  1.,  1.],\n",
       "       [ 1.,  1.,  1.,  1.,  1.,  1.,  1.],\n",
       "       [ 1.,  1.,  1.,  1.,  1.,  1.,  1.]])"
      ]
     },
     "execution_count": 140,
     "metadata": {},
     "output_type": "execute_result"
    }
   ],
   "source": [
    "d"
   ]
  },
  {
   "cell_type": "code",
   "execution_count": 149,
   "metadata": {
    "collapsed": false
   },
   "outputs": [
    {
     "data": {
      "text/plain": [
       "array([[1, 1, 1, 1, 1, 1, 1],\n",
       "       [1, 1, 1, 1, 1, 1, 1],\n",
       "       [1, 1, 1, 1, 1, 1, 1],\n",
       "       [1, 1, 1, 0, 1, 1, 1],\n",
       "       [1, 1, 1, 1, 1, 1, 1],\n",
       "       [1, 1, 1, 1, 1, 1, 1],\n",
       "       [1, 1, 1, 1, 1, 1, 1]])"
      ]
     },
     "execution_count": 149,
     "metadata": {},
     "output_type": "execute_result"
    }
   ],
   "source": [
    "np.array([1]*24 + [0] + [1]*24).reshape((7,7))"
   ]
  },
  {
   "cell_type": "code",
   "execution_count": 145,
   "metadata": {
    "collapsed": true
   },
   "outputs": [],
   "source": [
    "np.reshape?"
   ]
  },
  {
   "cell_type": "code",
   "execution_count": null,
   "metadata": {
    "collapsed": true
   },
   "outputs": [],
   "source": []
  }
 ],
 "metadata": {
  "kernelspec": {
   "display_name": "Python 3",
   "language": "python",
   "name": "python3"
  },
  "language_info": {
   "codemirror_mode": {
    "name": "ipython",
    "version": 3
   },
   "file_extension": ".py",
   "mimetype": "text/x-python",
   "name": "python",
   "nbconvert_exporter": "python",
   "pygments_lexer": "ipython3",
   "version": "3.5.2"
  }
 },
 "nbformat": 4,
 "nbformat_minor": 0
}
