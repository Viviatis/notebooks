{
 "cells": [
  {
   "cell_type": "code",
   "execution_count": 1,
   "metadata": {
    "collapsed": true
   },
   "outputs": [],
   "source": [
    "\"\"\" Code example from Complexity and Computation, a book about\n",
    "exploring complexity science with Python.  Available free from\n",
    "\n",
    "http://greenteapress.com/complexity\n",
    "\n",
    "Copyright 2016 Allen Downey\n",
    "MIT License: http://opensource.org/licenses/MIT\n",
    "\"\"\"\n",
    "from __future__ import print_function, division\n",
    "\n",
    "import sys\n",
    "\n",
    "import numpy as np\n",
    "import matplotlib.pyplot as plt\n",
    "\n",
    "from matplotlib import animation\n",
    "from scipy.signal import convolve2d\n",
    "\n",
    "\"\"\"\n",
    "For animation to work in the notebook, you might have to install\n",
    "ffmpeg.  On Ubuntu and Linux Mint, the following should work.\n",
    "\n",
    "    sudo add-apt-repository ppa:mc3man/trusty-media\n",
    "    sudo apt-get update\n",
    "    sudo apt-get install ffmpeg\n",
    "\"\"\"\n",
    "\n",
    "class Cell2D:\n",
    "    \"\"\"Implements Conway's Game of Life.\"\"\"\n",
    "\n",
    "    def __init__(self, n, m=None):\n",
    "        \"\"\"Initializes the attributes.\n",
    "\n",
    "        n: number of rows\n",
    "        m: number of columns\n",
    "        \"\"\"\n",
    "        m = n if m is None else m\n",
    "        self.array = np.zeros((n, m), np.uint8)\n",
    "\n",
    "    def add_cells(self, row, col, *strings):\n",
    "        \"\"\"Adds cells at the given location.\n",
    "\n",
    "        row: top row index\n",
    "        col: left col index\n",
    "        strings: list of strings of 0s and 1s\n",
    "        \"\"\"\n",
    "        for i, s in enumerate(strings):\n",
    "            self.array[row+i, col:col+len(s)] = np.array([int(b) for b in s])\n",
    "\n",
    "    def step(self):\n",
    "        \"\"\"Executes one time step.\"\"\"\n",
    "        pass\n",
    "\n",
    "\n",
    "class Cell2DViewer:\n",
    "    \"\"\"Generates an animated view of an array image.\"\"\"\n",
    "\n",
    "    cmap = plt.get_cmap('Greens')\n",
    "    options = dict(interpolation='nearest', alpha=0.8,\n",
    "                   vmin=0, vmax=1)\n",
    "\n",
    "    def __init__(self, viewee):\n",
    "        self.viewee = viewee\n",
    "        self.im = None\n",
    "        self.hlines = None\n",
    "        self.vlines = None\n",
    "\n",
    "    # TODO: should this really take iters?\n",
    "    def step(self, iters=1):\n",
    "        \"\"\"Advances the viewee the given number of steps.\"\"\"\n",
    "        for i in range(iters):\n",
    "            self.viewee.step()\n",
    "\n",
    "    def draw(self, grid=False):\n",
    "        \"\"\"Draws the array and any other elements.\n",
    "\n",
    "        grid: boolean, whether to draw grid lines\n",
    "        \"\"\"\n",
    "        self.draw_array(self.viewee.array)\n",
    "        if grid:\n",
    "            self.draw_grid()\n",
    "\n",
    "    def draw_array(self, array=None, cmap=None, **kwds):\n",
    "        \"\"\"Draws the cells.\"\"\"\n",
    "        # Note: we have to make a copy because some implementations\n",
    "        # of step perform updates in place.\n",
    "        if array is None:\n",
    "            array = self.viewee.array\n",
    "        a = array.copy()\n",
    "        cmap = self.cmap if cmap is None else cmap\n",
    "\n",
    "        n, m = a.shape\n",
    "        plt.axis([0, m, 0, n])\n",
    "        plt.xticks([])\n",
    "        plt.yticks([])\n",
    "\n",
    "        options = self.options.copy()\n",
    "        options['extent'] = [0, m, 0, n]\n",
    "        options.update(kwds)\n",
    "        self.im = plt.imshow(a, cmap, **options)\n",
    "\n",
    "    def draw_grid(self):\n",
    "        \"\"\"Draws the grid.\"\"\"\n",
    "        a = self.viewee.array\n",
    "        n, m = a.shape\n",
    "        lw = 2 if m < 10 else 1\n",
    "        options = dict(color='white', linewidth=lw)\n",
    "\n",
    "        rows = np.arange(1, n)\n",
    "        self.hlines = plt.hlines(rows, 0, m, **options)\n",
    "\n",
    "        cols = np.arange(1, m)\n",
    "        self.vlines = plt.vlines(cols, 0, n, **options)\n",
    "\n",
    "    def animate(self, frames=20, interval=200, grid=False):\n",
    "        \"\"\"Creates an animation.\n",
    "\n",
    "        frames: number of frames to draw\n",
    "        interval: time between frames in ms\n",
    "        \"\"\"\n",
    "        fig = plt.figure()\n",
    "        self.draw(grid)\n",
    "        anim = animation.FuncAnimation(fig, self.animate_func,\n",
    "                                       init_func=self.init_func,\n",
    "                                       frames=frames, interval=interval)\n",
    "        return anim\n",
    "\n",
    "    def init_func(self):\n",
    "        \"\"\"Called at the beginning of an animation.\"\"\"\n",
    "        pass\n",
    "\n",
    "    def animate_func(self, i):\n",
    "        \"\"\"Draws one frame of the animation.\"\"\"\n",
    "        if i > 0:\n",
    "            self.step()\n",
    "        a = self.viewee.array\n",
    "        self.im.set_array(a)\n",
    "        return (self.im,)\n"
   ]
  },
  {
   "cell_type": "code",
   "execution_count": 3,
   "metadata": {
    "collapsed": false
   },
   "outputs": [
    {
     "data": {
      "text/plain": [
       "0.58402668759811616"
      ]
     },
     "execution_count": 3,
     "metadata": {},
     "output_type": "execute_result"
    },
    {
     "data": {
      "image/png": "[encoded data removed]",
      "text/plain": [
       "<matplotlib.figure.Figure at 0x7f5018f9fc18>"
      ]
     },
     "metadata": {},
     "output_type": "display_data"
    }
   ],
   "source": [
    "from __future__ import print_function, division\n",
    "\n",
    "%matplotlib inline\n",
    "#%precision 3\n",
    "\n",
    "import warnings\n",
    "warnings.filterwarnings('ignore')\n",
    "\n",
    "import numpy as np\n",
    "import matplotlib.pyplot as plt\n",
    "\n",
    "#import thinkplot\n",
    "#from thinkstats2 import Cdf\n",
    "#from thinkstats2 import RandomSeed\n",
    "\n",
    "from matplotlib import rc\n",
    "rc('animation', html='html5')\n",
    "\n",
    "from Cell2D import Cell2D, Cell2DViewer\n",
    "\n",
    "def locs_where(condition):\n",
    "    \"\"\"Find cells where a logical array is True.\n",
    "    \n",
    "    condition: logical array\n",
    "    \n",
    "    returns: array with one set of coordinates per row\n",
    "    \"\"\"\n",
    "    return np.transpose(np.nonzero(condition))\n",
    "\n",
    "from scipy.signal import correlate2d\n",
    "\n",
    "class Schelling(Cell2D):\n",
    "    \"\"\"Represents a grid of Schelling agents.\"\"\"\n",
    "    \n",
    "    options = dict(mode='same', boundary='wrap')\n",
    "\n",
    "    kernel = np.array([[1, 1, 1],\n",
    "                       [1, 0, 1],\n",
    "                       [1, 1, 1]], dtype=np.int8)\n",
    "    \n",
    "    def __init__(self, n, m=None, p=0.5):\n",
    "        \"\"\"Initializes the attributes.\n",
    "\n",
    "        n: number of rows\n",
    "        m: number of columns\n",
    "        p: threshold on the fraction of similar neighbors\n",
    "        \"\"\"\n",
    "        self.p = p\n",
    "        m = n if m is None else m\n",
    "        # 0 is empty, 1 is red, 2 is blue\n",
    "        choices = [0, 1, 2]\n",
    "        probs = [0.1, 0.45, 0.45]\n",
    "        self.array = np.random.choice(choices, (n, m), p=probs).astype(np.int8)\n",
    "\n",
    "    def count_neighbors(self):\n",
    "        \"\"\"Surveys neighboring cells.\n",
    "        \n",
    "        returns: tuple of (occupied, frac_red, frac_same)\n",
    "        \n",
    "        occupied: logical array indicating occupied cells\n",
    "        frac_red: fraction of red neighbors around each cell\n",
    "        frac_same: for each cell, the fraction of similar neighbors\n",
    "        \"\"\"\n",
    "        a = self.array\n",
    "        \n",
    "        red = a==1\n",
    "        blue = a==2\n",
    "        occupied = a!=0\n",
    "\n",
    "        # count red neighbors and all neighbors\n",
    "        num_red = correlate2d(red, self.kernel, **self.options)\n",
    "        num_neighbors = correlate2d(occupied, self.kernel, **self.options)\n",
    "\n",
    "        # compute fraction of similar neighbors\n",
    "        frac_red = num_red / num_neighbors\n",
    "        frac_blue = 1 - frac_red\n",
    "        frac_same = np.where(red, frac_red, frac_blue)\n",
    "        \n",
    "        # no neighbors is considered the same as no similar neighbors \n",
    "        frac_same[num_neighbors == 0] = 0\n",
    "        frac_red[num_neighbors == 0] = 0\n",
    "        \n",
    "        return occupied, frac_red, frac_same\n",
    "\n",
    "    def segregation(self):\n",
    "        \"\"\"Computes the average fraction of similar neighbors.\n",
    "        \n",
    "        returns: fraction of similar neighbors, averaged over cells\n",
    "        \"\"\"\n",
    "        occupied, _, frac_same = self.count_neighbors()\n",
    "        return np.sum(frac_same) / np.sum(occupied)\n",
    "    \n",
    "    def step(self):\n",
    "        \"\"\"Executes one time step.\n",
    "                \n",
    "        returns: fraction of similar neighbors, averaged over cells\n",
    "        \"\"\"\n",
    "        a = self.array\n",
    "        \n",
    "        # find the unhappy cells\n",
    "        occupied, _, frac_same = self.count_neighbors()\n",
    "        unhappy_locs = locs_where(occupied & (frac_same < self.p))\n",
    "\n",
    "        # find the empty cells\n",
    "        empty = a==0\n",
    "        num_empty = np.sum(empty)\n",
    "        empty_locs = locs_where(empty)\n",
    "\n",
    "        # shuffle the unhappy cells\n",
    "        if len(unhappy_locs):\n",
    "            np.random.shuffle(unhappy_locs)\n",
    "            \n",
    "        # for each unhappy cell, choose a random destination\n",
    "        for source in unhappy_locs:\n",
    "            i = np.random.randint(len(empty_locs))\n",
    "            dest = tuple(empty_locs[i])\n",
    "\n",
    "            # move\n",
    "            a[dest] = a[tuple(source)]\n",
    "            a[tuple(source)] = 0\n",
    "            empty_locs[i] = source\n",
    "        \n",
    "        num_empty2 = np.sum(a==0)\n",
    "        assert num_empty == num_empty2\n",
    "        \n",
    "        # return the average fraction of similar neighbors\n",
    "        return np.sum(frac_same) / np.sum(occupied)\n",
    "\n",
    "from matplotlib.colors import LinearSegmentedColormap\n",
    "\n",
    "def make_cmap(color_dict, vmax=None, name='mycmap'):\n",
    "    \"\"\"Makes a custom color map.\n",
    "    \n",
    "    color_dict: map from numbers to colors\n",
    "    vmax: high end of the range, \n",
    "    name: string name for map\n",
    "    \n",
    "    If vmax is None, uses the max value from color_dict\n",
    "    \n",
    "    returns: pyplot color map\n",
    "    \"\"\"\n",
    "    if vmax is None:\n",
    "        vmax = max(color_dict.keys())\n",
    "    \n",
    "    colors = [(value/vmax, color) for value, color in color_dict.items()]\n",
    "    \n",
    "    cmap = LinearSegmentedColormap.from_list(name, colors)\n",
    "    \n",
    "    return cmap\n",
    "\n",
    "\n",
    "class SchellingViewer(Cell2DViewer):\n",
    "    # colors from http://colorbrewer2.org/#type=qualitative&scheme=Accent&n=5\n",
    "    colors = ['#7fc97f','#beaed4','#fdc086','#ffff99','#386cb0']\n",
    "    cmap = make_cmap({0:'white', 1:colors[2], 2:colors[4]})\n",
    "    options = dict(interpolation='none', alpha=0.8)\n",
    "\n",
    "grid = Schelling(n=10)\n",
    "viewer = SchellingViewer(grid)\n",
    "viewer.draw()\n",
    "grid.segregation()\n"
   ]
  },
  {
   "cell_type": "code",
   "execution_count": 5,
   "metadata": {
    "collapsed": false
   },
   "outputs": [
    {
     "data": {
      "image/png": "[encoded data removed]",
      "text/plain": [
       "<matplotlib.figure.Figure at 0x7f50190137b8>"
      ]
     },
     "metadata": {},
     "output_type": "display_data"
    }
   ],
   "source": [
    "grid = Schelling(n=100)\n",
    "viewer = SchellingViewer(grid)\n",
    "anim = viewer.animate(frames=30)"
   ]
  },
  {
   "cell_type": "code",
   "execution_count": 6,
   "metadata": {
    "collapsed": false
   },
   "outputs": [
    {
     "data": {
      "text/plain": [
       "0.53342803030303021"
      ]
     },
     "execution_count": 6,
     "metadata": {},
     "output_type": "execute_result"
    },
    {
     "data": {
      "image/png": "[encoded data removed]",
      "text/plain": [
       "<matplotlib.figure.Figure at 0x7f50189a92b0>"
      ]
     },
     "metadata": {},
     "output_type": "display_data"
    }
   ],
   "source": [
    "grid = Schelling(n=10)\n",
    "viewer = SchellingViewer(grid)\n",
    "viewer.draw()\n",
    "grid.segregation()"
   ]
  },
  {
   "cell_type": "code",
   "execution_count": 7,
   "metadata": {
    "collapsed": false
   },
   "outputs": [
    {
     "data": {
      "text/plain": [
       "0.6664096320346321"
      ]
     },
     "execution_count": 7,
     "metadata": {},
     "output_type": "execute_result"
    },
    {
     "data": {
      "image/png": "[encoded data removed]",
      "text/plain": [
       "<matplotlib.figure.Figure at 0x7f50189722b0>"
      ]
     },
     "metadata": {},
     "output_type": "display_data"
    }
   ],
   "source": [
    "grid.step()\n",
    "viewer = SchellingViewer(grid)\n",
    "viewer.draw()\n",
    "grid.segregation()"
   ]
  },
  {
   "cell_type": "code",
   "execution_count": 8,
   "metadata": {
    "collapsed": false
   },
   "outputs": [
    {
     "data": {
      "text/plain": [
       "0.77180735930735933"
      ]
     },
     "execution_count": 8,
     "metadata": {},
     "output_type": "execute_result"
    },
    {
     "data": {
      "image/png": "[encoded data removed]",
      "text/plain": [
       "<matplotlib.figure.Figure at 0x7f501894ac88>"
      ]
     },
     "metadata": {},
     "output_type": "display_data"
    }
   ],
   "source": [
    "grid.step()\n",
    "viewer = SchellingViewer(grid)\n",
    "viewer.draw()\n",
    "grid.segregation()"
   ]
  },
  {
   "cell_type": "code",
   "execution_count": null,
   "metadata": {
    "collapsed": true
   },
   "outputs": [],
   "source": []
  }
 ],
 "metadata": {
  "kernelspec": {
   "display_name": "Python 3",
   "language": "python",
   "name": "python3"
  },
  "language_info": {
   "codemirror_mode": {
    "name": "ipython",
    "version": 3
   },
   "file_extension": ".py",
   "mimetype": "text/x-python",
   "name": "python",
   "nbconvert_exporter": "python",
   "pygments_lexer": "ipython3",
   "version": "3.5.2"
  }
 },
 "nbformat": 4,
 "nbformat_minor": 0
}
